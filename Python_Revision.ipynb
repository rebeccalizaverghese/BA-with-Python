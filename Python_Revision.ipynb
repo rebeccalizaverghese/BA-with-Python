{
  "nbformat": 4,
  "nbformat_minor": 0,
  "metadata": {
    "colab": {
      "provenance": [],
      "authorship_tag": "ABX9TyMVRfOtLpEo5twYhdui1nfI",
      "include_colab_link": true
    },
    "kernelspec": {
      "name": "python3",
      "display_name": "Python 3"
    },
    "language_info": {
      "name": "python"
    }
  },
  "cells": [
    {
      "cell_type": "markdown",
      "metadata": {
        "id": "view-in-github",
        "colab_type": "text"
      },
      "source": [
        "<a href=\"https://colab.research.google.com/github/rebeccalizaverghese/BA-with-Python/blob/main/Python_Revision.ipynb\" target=\"_parent\"><img src=\"https://colab.research.google.com/assets/colab-badge.svg\" alt=\"Open In Colab\"/></a>"
      ]
    },
    {
      "cell_type": "code",
      "execution_count": 9,
      "metadata": {
        "colab": {
          "base_uri": "https://localhost:8080/"
        },
        "id": "AnBP8bZYBqmS",
        "outputId": "f54a8394-9649-4f90-bbed-e31362470a9f"
      },
      "outputs": [
        {
          "name": "stdout",
          "output_type": "stream",
          "text": [
            "Enter your marks50\n"
          ]
        }
      ],
      "source": [
        "x= int(input(\"Enter your marks\"))"
      ]
    },
    {
      "cell_type": "code",
      "source": [
        "if x>50 :\n",
        "  print(\"You have passed\")\n",
        "if x<50 :\n",
        "  print(\"You have failed\")\n",
        "if x==50 :\n",
        "  print(\"You have just passed\")"
      ],
      "metadata": {
        "colab": {
          "base_uri": "https://localhost:8080/"
        },
        "id": "SXHaO_ADEN_r",
        "outputId": "9c89a2ff-3f82-40d9-db80-5879c5370e0f"
      },
      "execution_count": 11,
      "outputs": [
        {
          "output_type": "stream",
          "name": "stdout",
          "text": [
            "You have just passed\n"
          ]
        }
      ]
    },
    {
      "cell_type": "code",
      "source": [
        "s= int(input(\"Enter your salary\"))"
      ],
      "metadata": {
        "colab": {
          "base_uri": "https://localhost:8080/"
        },
        "id": "iEWDJIUcEyR_",
        "outputId": "70817811-9aa6-41c4-a8bd-8f8973a0e659"
      },
      "execution_count": 23,
      "outputs": [
        {
          "name": "stdout",
          "output_type": "stream",
          "text": [
            "Enter your salary63000\n"
          ]
        }
      ]
    },
    {
      "cell_type": "code",
      "source": [
        "if s>250000 :\n",
        "  print(\"You are taxable\")\n",
        "if s<250000 :\n",
        "  print (\"You are not taxable\")"
      ],
      "metadata": {
        "colab": {
          "base_uri": "https://localhost:8080/"
        },
        "id": "LEspmMw2G710",
        "outputId": "2b667f93-b0ab-4c85-b977-5c4de405053a"
      },
      "execution_count": 13,
      "outputs": [
        {
          "output_type": "stream",
          "name": "stdout",
          "text": [
            "You are not taxable\n"
          ]
        }
      ]
    },
    {
      "cell_type": "code",
      "source": [
        "s= int(input(\"Enter your salary\"))\n",
        "if s>=250000 and s<=500000 :\n",
        "  print(\"You are taxable\")\n",
        "  print(\"Your tax amount is\", (s-250000)*10/100)\n",
        "if s>500000 :\n",
        "  print(\"You are Taxable\")\n",
        "  print(\"Your tax amount is\", (s-500000)*20/100)\n",
        "if s<250000 :\n",
        "  print(\"You are not taxable\")"
      ],
      "metadata": {
        "colab": {
          "base_uri": "https://localhost:8080/"
        },
        "id": "t_JIh4NoHaG6",
        "outputId": "96ea7e31-9d40-42b7-81c6-afceb668611f"
      },
      "execution_count": 26,
      "outputs": [
        {
          "output_type": "stream",
          "name": "stdout",
          "text": [
            "Enter your salary550000\n",
            "You are Taxable\n",
            "Your tax amount is 10000.0\n"
          ]
        }
      ]
    },
    {
      "cell_type": "code",
      "source": [
        "x=int(input(\"Enter your salary:\"))\n",
        "if x<=250000:\n",
        "  print(\"You are not taxable\")\n",
        "if x>250000 and x<=500000:\n",
        "  a=(x-250000)*5/100\n",
        "  print(\"You are taxable and amount is:\",a)\n",
        "if x>500000 and x<=750000:\n",
        "  b=(x-500000)*10/100 + (500000-250000)*5/100\n",
        "  print(\"You are taxable and amount is:\",b)\n",
        "if x>750000 and x<=1000000:\n",
        "  c=(x-750000)*15/100+(750000-500000)*10/100 + (500000-250000)*5/100\n",
        "  print(\"You are taxable and amount is:\",c)\n",
        "if x>1000000 and x<=1250000:\n",
        "  d=(x-1000000)*20/100+(1000000-750000)*15/100+(750000-500000)*10/100 + (500000-250000)*5/100\n",
        "  print(\"You are taxable and amount is:\",d)\n",
        "if x>1250000 and x<=1500000:\n",
        "  e=(x-1250000)*25/100+(1250000-1000000)*20/100+(1000000-750000)*15/100+(750000-500000)*10/100 + (500000-250000)*5/100\n",
        "  print(\"You are taxable and amount is:\",e)\n",
        "if x>1500000:\n",
        "  c=(x-1500000)*30/100+(1500000-1250000)*25/100+(1250000-1000000)*20/100+(1000000-750000)*15/100+(750000-500000)*10/100 + (500000-250000)*5/100\n",
        "  print(\"You are taxable and amount is:\",c)\n"
      ],
      "metadata": {
        "colab": {
          "base_uri": "https://localhost:8080/"
        },
        "id": "Bz2_96gAK7jT",
        "outputId": "1a297052-72df-48c9-d4bd-86b28e3d401d"
      },
      "execution_count": 34,
      "outputs": [
        {
          "output_type": "stream",
          "name": "stdout",
          "text": [
            "Enter your salary:1400000\n",
            "You are taxable and amount is: 162500.0\n"
          ]
        }
      ]
    },
    {
      "cell_type": "code",
      "source": [],
      "metadata": {
        "id": "Ry7LLEfKM8oZ"
      },
      "execution_count": null,
      "outputs": []
    }
  ]
}