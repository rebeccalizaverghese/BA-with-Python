{
  "nbformat": 4,
  "nbformat_minor": 0,
  "metadata": {
    "colab": {
      "name": "Linear Regression in Stock Price (Reliance)",
      "provenance": [],
      "authorship_tag": "ABX9TyOZNCO/eDKt4sAlwOjZY9hH",
      "include_colab_link": true
    },
    "kernelspec": {
      "name": "python3",
      "display_name": "Python 3"
    },
    "language_info": {
      "name": "python"
    }
  },
  "cells": [
    {
      "cell_type": "markdown",
      "metadata": {
        "id": "view-in-github",
        "colab_type": "text"
      },
      "source": [
        "<a href=\"https://colab.research.google.com/github/rebeccalizaverghese/BA-with-Python/blob/main/Linear_Regression_in_Stock_Price_(Reliance).ipynb\" target=\"_parent\"><img src=\"https://colab.research.google.com/assets/colab-badge.svg\" alt=\"Open In Colab\"/></a>"
      ]
    },
    {
      "cell_type": "code",
      "execution_count": 1,
      "metadata": {
        "id": "T3ZX_amxCRwa"
      },
      "outputs": [],
      "source": [
        "import numpy as np"
      ]
    },
    {
      "cell_type": "code",
      "source": [
        "x = np.array([1,2,3,4,5,6,7,8,9,10,11,12])\n",
        "y = np.array([2072,2267,2523,2537,2467,2403,2378,2398,2655,2780,2633,2408])"
      ],
      "metadata": {
        "id": "tCifwCx9FK1W"
      },
      "execution_count": 2,
      "outputs": []
    },
    {
      "cell_type": "code",
      "source": [
        "x_dash = np.mean(x)\n",
        "y_dash = np.mean(y)"
      ],
      "metadata": {
        "id": "5jlDib5qF5kJ"
      },
      "execution_count": 3,
      "outputs": []
    },
    {
      "cell_type": "code",
      "source": [
        "print (x_dash)\n",
        "print (y_dash)"
      ],
      "metadata": {
        "colab": {
          "base_uri": "https://localhost:8080/"
        },
        "id": "AIAxiSBUGUem",
        "outputId": "a7ff2f3b-c912-4466-ba1f-3a89c516c674"
      },
      "execution_count": 4,
      "outputs": [
        {
          "output_type": "stream",
          "name": "stdout",
          "text": [
            "6.5\n",
            "2460.0833333333335\n"
          ]
        }
      ]
    },
    {
      "cell_type": "code",
      "source": [
        "p = (x-x_dash) * (y-y_dash)\n",
        "print (p)"
      ],
      "metadata": {
        "colab": {
          "base_uri": "https://localhost:8080/"
        },
        "id": "iiR_TpZAGZqG",
        "outputId": "706eb16a-c300-4893-d710-2bd0b96f387a"
      },
      "execution_count": 5,
      "outputs": [
        {
          "output_type": "stream",
          "name": "stdout",
          "text": [
            "[2134.45833333  868.875      -220.20833333 -192.29166667  -10.375\n",
            "   28.54166667  -41.04166667  -93.125       487.29166667 1119.70833333\n",
            "  778.125      -286.45833333]\n"
          ]
        }
      ]
    },
    {
      "cell_type": "code",
      "source": [
        "num = sum(p)\n",
        "print (num)"
      ],
      "metadata": {
        "colab": {
          "base_uri": "https://localhost:8080/"
        },
        "id": "brWwY2uNH37V",
        "outputId": "0fb76a1f-e1c6-4f1c-8778-3cda50372570"
      },
      "execution_count": 7,
      "outputs": [
        {
          "output_type": "stream",
          "name": "stdout",
          "text": [
            "4573.5\n"
          ]
        }
      ]
    },
    {
      "cell_type": "code",
      "source": [
        "q = (x-x_dash)*(x-x_dash)\n",
        "print (q)"
      ],
      "metadata": {
        "colab": {
          "base_uri": "https://localhost:8080/"
        },
        "id": "xwORism4Jtj_",
        "outputId": "00dcd39a-7c4b-4c41-ce7b-9f8f1cfd8d71"
      },
      "execution_count": 9,
      "outputs": [
        {
          "output_type": "stream",
          "name": "stdout",
          "text": [
            "[30.25 20.25 12.25  6.25  2.25  0.25  0.25  2.25  6.25 12.25 20.25 30.25]\n"
          ]
        }
      ]
    },
    {
      "cell_type": "code",
      "source": [
        "den = sum(q)\n",
        "print (den)"
      ],
      "metadata": {
        "colab": {
          "base_uri": "https://localhost:8080/"
        },
        "id": "7yq31kqRKGn_",
        "outputId": "bbff4385-a924-45b6-c95c-f10f89c5db6b"
      },
      "execution_count": 11,
      "outputs": [
        {
          "output_type": "stream",
          "name": "stdout",
          "text": [
            "143.0\n"
          ]
        }
      ]
    },
    {
      "cell_type": "code",
      "source": [
        "m = num/den\n",
        "print (m)"
      ],
      "metadata": {
        "colab": {
          "base_uri": "https://localhost:8080/"
        },
        "id": "xRWkZwarLR53",
        "outputId": "89d913fe-b8fa-4add-d052-ed3d4a4d9eb6"
      },
      "execution_count": 13,
      "outputs": [
        {
          "output_type": "stream",
          "name": "stdout",
          "text": [
            "31.982517482517483\n"
          ]
        }
      ]
    },
    {
      "cell_type": "code",
      "source": [
        "c = y_dash - m*x_dash\n",
        "print (c)"
      ],
      "metadata": {
        "colab": {
          "base_uri": "https://localhost:8080/"
        },
        "id": "u8sXZqvvLXrf",
        "outputId": "d1d3e22d-b95c-4ee9-e4ed-551891b51068"
      },
      "execution_count": 14,
      "outputs": [
        {
          "output_type": "stream",
          "name": "stdout",
          "text": [
            "2252.19696969697\n"
          ]
        }
      ]
    },
    {
      "cell_type": "code",
      "source": [
        "Ynew = m*x+c\n",
        "print (Ynew)"
      ],
      "metadata": {
        "colab": {
          "base_uri": "https://localhost:8080/"
        },
        "id": "PV4HItWxMB03",
        "outputId": "fb8bf498-ac8d-4652-a132-5116bedfc7fb"
      },
      "execution_count": 15,
      "outputs": [
        {
          "output_type": "stream",
          "name": "stdout",
          "text": [
            "[2284.17948718 2316.16200466 2348.14452214 2380.12703963 2412.10955711\n",
            " 2444.09207459 2476.07459207 2508.05710956 2540.03962704 2572.02214452\n",
            " 2604.004662   2635.98717949]\n"
          ]
        }
      ]
    },
    {
      "cell_type": "code",
      "source": [
        "import matplotlib.pyplot as plt\n",
        "plt.scatter(x,y)"
      ],
      "metadata": {
        "colab": {
          "base_uri": "https://localhost:8080/",
          "height": 282
        },
        "id": "FJjw6VJbONMw",
        "outputId": "0a606eb1-0433-452b-8573-40e502cdfd75"
      },
      "execution_count": 16,
      "outputs": [
        {
          "output_type": "execute_result",
          "data": {
            "text/plain": [
              "<matplotlib.collections.PathCollection at 0x7f0fe6aeaa90>"
            ]
          },
          "metadata": {},
          "execution_count": 16
        },
        {
          "output_type": "display_data",
          "data": {
            "text/plain": [
              "<Figure size 432x288 with 1 Axes>"
            ],
            "image/png": "[encoded data removed]"
          },
          "metadata": {
            "needs_background": "light"
          }
        }
      ]
    },
    {
      "cell_type": "code",
      "source": [
        "plt.scatter(x,y)\n",
        "plt.plot(x,Ynew)"
      ],
      "metadata": {
        "colab": {
          "base_uri": "https://localhost:8080/",
          "height": 282
        },
        "id": "ARomDGQbPhr2",
        "outputId": "ece98124-2cb1-45c5-e329-06daaf37327a"
      },
      "execution_count": 17,
      "outputs": [
        {
          "output_type": "execute_result",
          "data": {
            "text/plain": [
              "[<matplotlib.lines.Line2D at 0x7f0fe61b9a90>]"
            ]
          },
          "metadata": {},
          "execution_count": 17
        },
        {
          "output_type": "display_data",
          "data": {
            "text/plain": [
              "<Figure size 432x288 with 1 Axes>"
            ],
            "image/png": "[encoded data removed]"
          },
          "metadata": {
            "needs_background": "light"
          }
        }
      ]
    },
    {
      "cell_type": "code",
      "source": [
        ""
      ],
      "metadata": {
        "id": "UZ7UEK3PPtXd"
      },
      "execution_count": null,
      "outputs": []
    }
  ]
}