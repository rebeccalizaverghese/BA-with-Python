{
  "nbformat": 4,
  "nbformat_minor": 0,
  "metadata": {
    "colab": {
      "name": "List - 7/4.ipynb",
      "provenance": [],
      "collapsed_sections": []
    },
    "kernelspec": {
      "name": "python3",
      "display_name": "Python 3"
    },
    "language_info": {
      "name": "python"
    }
  },
  "cells": [
    {
      "cell_type": "code",
      "execution_count": null,
      "metadata": {
        "id": "gERxwOSJFjtJ"
      },
      "outputs": [],
      "source": [
        "x=10"
      ]
    },
    {
      "cell_type": "code",
      "source": [
        "print(x)"
      ],
      "metadata": {
        "colab": {
          "base_uri": "https://localhost:8080/"
        },
        "id": "L-rKHWK_FmRD",
        "outputId": "dfee2e5d-b704-431a-c213-7e95c9d81f06"
      },
      "execution_count": null,
      "outputs": [
        {
          "output_type": "stream",
          "name": "stdout",
          "text": [
            "10\n"
          ]
        }
      ]
    },
    {
      "cell_type": "code",
      "source": [
        "x=[10,20.9,30,40]"
      ],
      "metadata": {
        "id": "LPz0z1E_FqLS"
      },
      "execution_count": null,
      "outputs": []
    },
    {
      "cell_type": "code",
      "source": [
        "print(x)"
      ],
      "metadata": {
        "colab": {
          "base_uri": "https://localhost:8080/"
        },
        "id": "rORBkMe9FxFQ",
        "outputId": "cb593632-571f-4f52-95b2-d8247c74e78e"
      },
      "execution_count": null,
      "outputs": [
        {
          "output_type": "stream",
          "name": "stdout",
          "text": [
            "[10, 20.9, 30, 40]\n"
          ]
        }
      ]
    },
    {
      "cell_type": "code",
      "source": [
        "x=[10,20.9,\"india\",40]"
      ],
      "metadata": {
        "id": "c36BGaSHFzk5"
      },
      "execution_count": null,
      "outputs": []
    },
    {
      "cell_type": "code",
      "source": [
        "print(x)"
      ],
      "metadata": {
        "colab": {
          "base_uri": "https://localhost:8080/"
        },
        "id": "-AwVsJtBF6Xg",
        "outputId": "cb13201d-92d8-4d59-ae50-b4c9b93dd665"
      },
      "execution_count": null,
      "outputs": [
        {
          "output_type": "stream",
          "name": "stdout",
          "text": [
            "[10, 20.9, 'india', 40]\n"
          ]
        }
      ]
    },
    {
      "cell_type": "code",
      "source": [
        "x[0]"
      ],
      "metadata": {
        "colab": {
          "base_uri": "https://localhost:8080/"
        },
        "id": "tK82Q8shF8pw",
        "outputId": "e4d3d404-d914-43a7-f0f9-6efcb0a0c897"
      },
      "execution_count": null,
      "outputs": [
        {
          "output_type": "execute_result",
          "data": {
            "text/plain": [
              "10"
            ]
          },
          "metadata": {},
          "execution_count": 26
        }
      ]
    },
    {
      "cell_type": "code",
      "source": [
        "x[1]"
      ],
      "metadata": {
        "colab": {
          "base_uri": "https://localhost:8080/"
        },
        "id": "6gcONeAeGVWw",
        "outputId": "0336eb39-e57a-475e-bccf-62c7e2f76529"
      },
      "execution_count": null,
      "outputs": [
        {
          "output_type": "execute_result",
          "data": {
            "text/plain": [
              "20.9"
            ]
          },
          "metadata": {},
          "execution_count": 27
        }
      ]
    },
    {
      "cell_type": "code",
      "source": [
        "x[2]"
      ],
      "metadata": {
        "colab": {
          "base_uri": "https://localhost:8080/",
          "height": 35
        },
        "id": "DvCfIAPUGXGn",
        "outputId": "8a1ef78a-ff6f-492d-a656-59e78a00f877"
      },
      "execution_count": null,
      "outputs": [
        {
          "output_type": "execute_result",
          "data": {
            "text/plain": [
              "'india'"
            ],
            "application/vnd.google.colaboratory.intrinsic+json": {
              "type": "string"
            }
          },
          "metadata": {},
          "execution_count": 28
        }
      ]
    },
    {
      "cell_type": "code",
      "source": [
        "type(x[2])"
      ],
      "metadata": {
        "colab": {
          "base_uri": "https://localhost:8080/"
        },
        "id": "e63ft0ZiGayX",
        "outputId": "5b914633-636e-41a5-884a-8e029657c605"
      },
      "execution_count": null,
      "outputs": [
        {
          "output_type": "execute_result",
          "data": {
            "text/plain": [
              "str"
            ]
          },
          "metadata": {},
          "execution_count": 29
        }
      ]
    },
    {
      "cell_type": "code",
      "source": [
        "type(x[1])"
      ],
      "metadata": {
        "colab": {
          "base_uri": "https://localhost:8080/"
        },
        "id": "eTWB9zEPGmJe",
        "outputId": "5fb45f01-d403-4257-e303-e408691f7892"
      },
      "execution_count": null,
      "outputs": [
        {
          "output_type": "execute_result",
          "data": {
            "text/plain": [
              "float"
            ]
          },
          "metadata": {},
          "execution_count": 30
        }
      ]
    },
    {
      "cell_type": "code",
      "source": [
        "x[3]"
      ],
      "metadata": {
        "colab": {
          "base_uri": "https://localhost:8080/"
        },
        "id": "Ka76Q00MGtuR",
        "outputId": "12a755b4-03be-40bf-a96f-3335e9cb1a26"
      },
      "execution_count": null,
      "outputs": [
        {
          "output_type": "execute_result",
          "data": {
            "text/plain": [
              "40"
            ]
          },
          "metadata": {},
          "execution_count": 31
        }
      ]
    },
    {
      "cell_type": "code",
      "source": [
        "x=[\"Apple\",\"Mango\",\"Orange\"]"
      ],
      "metadata": {
        "id": "U_dZpOo8G7sG"
      },
      "execution_count": null,
      "outputs": []
    },
    {
      "cell_type": "code",
      "source": [
        "x[1]"
      ],
      "metadata": {
        "colab": {
          "base_uri": "https://localhost:8080/",
          "height": 35
        },
        "id": "sSKMkG0_Hct9",
        "outputId": "175f352c-03a7-4006-ddae-66fec830a455"
      },
      "execution_count": null,
      "outputs": [
        {
          "output_type": "execute_result",
          "data": {
            "text/plain": [
              "'Mango'"
            ],
            "application/vnd.google.colaboratory.intrinsic+json": {
              "type": "string"
            }
          },
          "metadata": {},
          "execution_count": 33
        }
      ]
    },
    {
      "cell_type": "code",
      "source": [
        "x=[\"Adam\", \"John\",20, \"Mumbai\", \"BBA\"]"
      ],
      "metadata": {
        "id": "ftgZANbPHfmN"
      },
      "execution_count": null,
      "outputs": []
    },
    {
      "cell_type": "code",
      "source": [
        "x[0]+x[1]"
      ],
      "metadata": {
        "colab": {
          "base_uri": "https://localhost:8080/",
          "height": 35
        },
        "id": "xH9fwJAAHqrU",
        "outputId": "fc095196-7d81-4b91-9d53-7bd2fdca32b5"
      },
      "execution_count": null,
      "outputs": [
        {
          "output_type": "execute_result",
          "data": {
            "text/plain": [
              "'AdamJohn'"
            ],
            "application/vnd.google.colaboratory.intrinsic+json": {
              "type": "string"
            }
          },
          "metadata": {},
          "execution_count": 35
        }
      ]
    },
    {
      "cell_type": "code",
      "source": [
        "x[0]+\" \"+x[1]"
      ],
      "metadata": {
        "colab": {
          "base_uri": "https://localhost:8080/",
          "height": 35
        },
        "id": "KiX9SRL5HvXn",
        "outputId": "5df650ec-1c8e-447c-c779-a5650b211ea3"
      },
      "execution_count": null,
      "outputs": [
        {
          "output_type": "execute_result",
          "data": {
            "text/plain": [
              "'Adam John'"
            ],
            "application/vnd.google.colaboratory.intrinsic+json": {
              "type": "string"
            }
          },
          "metadata": {},
          "execution_count": 36
        }
      ]
    },
    {
      "cell_type": "code",
      "source": [
        "x=input(\"Enter your first name\")\n",
        "y=input(\"Enter your second name\")\n",
        "z=int(input(\"enter your age\"))"
      ],
      "metadata": {
        "colab": {
          "base_uri": "https://localhost:8080/"
        },
        "id": "3tADjXuOH3vl",
        "outputId": "d455fb39-a70b-4e97-d52f-37926d5dc1e5"
      },
      "execution_count": null,
      "outputs": [
        {
          "name": "stdout",
          "output_type": "stream",
          "text": [
            "Enter your first nameAdam\n",
            "Enter your second nameJohn\n",
            "enter your age20\n"
          ]
        }
      ]
    },
    {
      "cell_type": "code",
      "source": [
        "A = [\"First\", \"Second\", 20]"
      ],
      "metadata": {
        "id": "Ij8GRJkfIGnL"
      },
      "execution_count": null,
      "outputs": []
    },
    {
      "cell_type": "code",
      "source": [
        "A[0]=x"
      ],
      "metadata": {
        "id": "aXiLnNxoIlgk"
      },
      "execution_count": null,
      "outputs": []
    },
    {
      "cell_type": "code",
      "source": [
        "A[1]=y"
      ],
      "metadata": {
        "id": "aqhJ6R3iIo1t"
      },
      "execution_count": null,
      "outputs": []
    },
    {
      "cell_type": "code",
      "source": [
        "A[2]=20"
      ],
      "metadata": {
        "id": "Qg_7lD-bIr7_"
      },
      "execution_count": null,
      "outputs": []
    },
    {
      "cell_type": "code",
      "source": [
        "A"
      ],
      "metadata": {
        "colab": {
          "base_uri": "https://localhost:8080/"
        },
        "id": "1LxH2ffbJUcC",
        "outputId": "97ae8252-9894-4e3d-ccd4-5a55007b9e40"
      },
      "execution_count": null,
      "outputs": [
        {
          "output_type": "execute_result",
          "data": {
            "text/plain": [
              "['Adam', 'John', 20]"
            ]
          },
          "metadata": {},
          "execution_count": 45
        }
      ]
    },
    {
      "cell_type": "code",
      "source": [
        "x=[1,23,45,65,56]"
      ],
      "metadata": {
        "id": "lOMdLpKsJVB2"
      },
      "execution_count": null,
      "outputs": []
    },
    {
      "cell_type": "code",
      "source": [
        "x[1:4]"
      ],
      "metadata": {
        "colab": {
          "base_uri": "https://localhost:8080/"
        },
        "id": "iytGB62sKMOf",
        "outputId": "feed7790-79b6-4abd-d13d-b259e82ae1be"
      },
      "execution_count": null,
      "outputs": [
        {
          "output_type": "execute_result",
          "data": {
            "text/plain": [
              "[23, 45, 65]"
            ]
          },
          "metadata": {},
          "execution_count": 47
        }
      ]
    },
    {
      "cell_type": "code",
      "source": [
        "x[1:2]"
      ],
      "metadata": {
        "colab": {
          "base_uri": "https://localhost:8080/"
        },
        "id": "aimKgoP_KPB7",
        "outputId": "44636bc2-80fb-4b90-bf0c-a43628fa7b3c"
      },
      "execution_count": null,
      "outputs": [
        {
          "output_type": "execute_result",
          "data": {
            "text/plain": [
              "[23]"
            ]
          },
          "metadata": {},
          "execution_count": 48
        }
      ]
    },
    {
      "cell_type": "code",
      "source": [
        "x[:4]"
      ],
      "metadata": {
        "colab": {
          "base_uri": "https://localhost:8080/"
        },
        "id": "ixDCIx-kKl5P",
        "outputId": "91e3de40-a809-492b-bac0-fb653e446c1f"
      },
      "execution_count": null,
      "outputs": [
        {
          "output_type": "execute_result",
          "data": {
            "text/plain": [
              "[1, 23, 45, 65]"
            ]
          },
          "metadata": {},
          "execution_count": 49
        }
      ]
    },
    {
      "cell_type": "code",
      "source": [
        "x[2:]"
      ],
      "metadata": {
        "colab": {
          "base_uri": "https://localhost:8080/"
        },
        "id": "9BZT1ca-LB0i",
        "outputId": "79fedc41-b735-4a25-922b-2f9086a024f6"
      },
      "execution_count": null,
      "outputs": [
        {
          "output_type": "execute_result",
          "data": {
            "text/plain": [
              "[45, 65, 56]"
            ]
          },
          "metadata": {},
          "execution_count": 50
        }
      ]
    },
    {
      "cell_type": "code",
      "source": [
        "x=[1,23,45,65,56]"
      ],
      "metadata": {
        "id": "oe96bAv-LiJr"
      },
      "execution_count": null,
      "outputs": []
    },
    {
      "cell_type": "code",
      "source": [
        "len(x)"
      ],
      "metadata": {
        "colab": {
          "base_uri": "https://localhost:8080/"
        },
        "id": "S_tkRanpLwP0",
        "outputId": "7dd55530-bc1f-439e-e196-53f34b7f26af"
      },
      "execution_count": null,
      "outputs": [
        {
          "output_type": "execute_result",
          "data": {
            "text/plain": [
              "5"
            ]
          },
          "metadata": {},
          "execution_count": 54
        }
      ]
    },
    {
      "cell_type": "code",
      "source": [
        "x[2:len(x)]"
      ],
      "metadata": {
        "colab": {
          "base_uri": "https://localhost:8080/"
        },
        "id": "ZFUwn8IVLxpt",
        "outputId": "34faf6f0-1e8d-4254-d8af-3d57d91f47c2"
      },
      "execution_count": null,
      "outputs": [
        {
          "output_type": "execute_result",
          "data": {
            "text/plain": [
              "[45, 65, 56]"
            ]
          },
          "metadata": {},
          "execution_count": 55
        }
      ]
    },
    {
      "cell_type": "code",
      "source": [
        "x=[1,43,56,64,85,32]"
      ],
      "metadata": {
        "id": "aJNBnHrtL2Nr"
      },
      "execution_count": null,
      "outputs": []
    },
    {
      "cell_type": "code",
      "source": [
        "len(x)"
      ],
      "metadata": {
        "colab": {
          "base_uri": "https://localhost:8080/"
        },
        "id": "53FFJZJ0L-5e",
        "outputId": "14cc52e1-d74c-497d-c9ef-f97f54564aaa"
      },
      "execution_count": null,
      "outputs": [
        {
          "output_type": "execute_result",
          "data": {
            "text/plain": [
              "6"
            ]
          },
          "metadata": {},
          "execution_count": 57
        }
      ]
    },
    {
      "cell_type": "code",
      "source": [
        "x[0]=22"
      ],
      "metadata": {
        "id": "vmoDJV-uL_ww"
      },
      "execution_count": null,
      "outputs": []
    },
    {
      "cell_type": "code",
      "source": [
        "x[1:3]=[33,44,5]"
      ],
      "metadata": {
        "id": "_pMqtngvMFO7"
      },
      "execution_count": null,
      "outputs": []
    },
    {
      "cell_type": "code",
      "source": [
        "x"
      ],
      "metadata": {
        "colab": {
          "base_uri": "https://localhost:8080/"
        },
        "id": "7kOkUXVIMKoW",
        "outputId": "4e4aa4b8-20ef-49bd-a0d8-525123272d6c"
      },
      "execution_count": null,
      "outputs": [
        {
          "output_type": "execute_result",
          "data": {
            "text/plain": [
              "[22, 33, 44, 5, 64, 85, 32]"
            ]
          },
          "metadata": {},
          "execution_count": 65
        }
      ]
    },
    {
      "cell_type": "code",
      "source": [
        "len(x)"
      ],
      "metadata": {
        "colab": {
          "base_uri": "https://localhost:8080/"
        },
        "id": "He-kQFrDMNNm",
        "outputId": "09a21cac-65e2-4cc9-8a6a-a0bf126ddb66"
      },
      "execution_count": null,
      "outputs": [
        {
          "output_type": "execute_result",
          "data": {
            "text/plain": [
              "7"
            ]
          },
          "metadata": {},
          "execution_count": 66
        }
      ]
    },
    {
      "cell_type": "code",
      "source": [
        "x[1:3]=[3]"
      ],
      "metadata": {
        "id": "4eyToxNyMdph"
      },
      "execution_count": null,
      "outputs": []
    },
    {
      "cell_type": "code",
      "source": [
        "x"
      ],
      "metadata": {
        "colab": {
          "base_uri": "https://localhost:8080/"
        },
        "id": "YQEZta3gMi1_",
        "outputId": "5067ec3b-c8eb-4d8b-90f5-328b25edef16"
      },
      "execution_count": null,
      "outputs": [
        {
          "output_type": "execute_result",
          "data": {
            "text/plain": [
              "[22, 3, 5, 64, 85, 32]"
            ]
          },
          "metadata": {},
          "execution_count": 68
        }
      ]
    },
    {
      "cell_type": "code",
      "source": [
        "x=[\"Adam\", \"John\", \"Albert\"]"
      ],
      "metadata": {
        "id": "-q-NOZcRMjmA"
      },
      "execution_count": null,
      "outputs": []
    },
    {
      "cell_type": "code",
      "source": [
        "x.append(\"Mary\")"
      ],
      "metadata": {
        "id": "7NiKn7vTMttI"
      },
      "execution_count": null,
      "outputs": []
    },
    {
      "cell_type": "code",
      "source": [
        "x"
      ],
      "metadata": {
        "colab": {
          "base_uri": "https://localhost:8080/"
        },
        "id": "Dxi12ZOrM6SF",
        "outputId": "6c1a2e80-90fe-4825-aeab-ea71f13ccc99"
      },
      "execution_count": null,
      "outputs": [
        {
          "output_type": "execute_result",
          "data": {
            "text/plain": [
              "['Adam', 'John', 'Albert', 'Mary']"
            ]
          },
          "metadata": {},
          "execution_count": 71
        }
      ]
    },
    {
      "cell_type": "code",
      "source": [
        "x.append(\"Ezra\")"
      ],
      "metadata": {
        "id": "D4V2ayWyM7Nl"
      },
      "execution_count": null,
      "outputs": []
    },
    {
      "cell_type": "code",
      "source": [
        "x"
      ],
      "metadata": {
        "colab": {
          "base_uri": "https://localhost:8080/"
        },
        "id": "XPfOWXeCN9ZY",
        "outputId": "423b5e8e-ef30-434c-8729-781de88cfeab"
      },
      "execution_count": null,
      "outputs": [
        {
          "output_type": "execute_result",
          "data": {
            "text/plain": [
              "['Adam', 'John', 'Albert', 'Mary', 'Ezra']"
            ]
          },
          "metadata": {},
          "execution_count": 73
        }
      ]
    },
    {
      "cell_type": "code",
      "source": [
        "x.insert(1,\"George\")"
      ],
      "metadata": {
        "id": "RUEj5usVN_KX"
      },
      "execution_count": null,
      "outputs": []
    },
    {
      "cell_type": "code",
      "source": [
        "x"
      ],
      "metadata": {
        "colab": {
          "base_uri": "https://localhost:8080/"
        },
        "id": "ejTjpepuOSjL",
        "outputId": "2b209604-ca56-47da-b719-c228e89a3ec5"
      },
      "execution_count": null,
      "outputs": [
        {
          "output_type": "execute_result",
          "data": {
            "text/plain": [
              "['Adam', 'George', 'John', 'Albert', 'Mary', 'Ezra']"
            ]
          },
          "metadata": {},
          "execution_count": 75
        }
      ]
    },
    {
      "cell_type": "code",
      "source": [
        "x=[\"Adam\", \"George\"]"
      ],
      "metadata": {
        "id": "RneeUncIOUDV"
      },
      "execution_count": null,
      "outputs": []
    },
    {
      "cell_type": "code",
      "source": [
        "y=[\"John\", \"Mary\"]"
      ],
      "metadata": {
        "id": "yeT91c7oO139"
      },
      "execution_count": null,
      "outputs": []
    },
    {
      "cell_type": "code",
      "source": [
        "x.extend(y)"
      ],
      "metadata": {
        "id": "kzqlPSwwO58z"
      },
      "execution_count": null,
      "outputs": []
    },
    {
      "cell_type": "code",
      "source": [
        "x"
      ],
      "metadata": {
        "colab": {
          "base_uri": "https://localhost:8080/"
        },
        "id": "dIcIxtdDO7tF",
        "outputId": "6e1cb9f7-4948-4e30-d2e6-c808532f2233"
      },
      "execution_count": null,
      "outputs": [
        {
          "output_type": "execute_result",
          "data": {
            "text/plain": [
              "['Adam', 'George', 'John', 'Mary']"
            ]
          },
          "metadata": {},
          "execution_count": 79
        }
      ]
    },
    {
      "cell_type": "code",
      "source": [
        "x=['Adam', 'George', 'John', 'Albert', 'Mary', 'Ezra']"
      ],
      "metadata": {
        "id": "f6A_VBK5O8pL"
      },
      "execution_count": null,
      "outputs": []
    },
    {
      "cell_type": "code",
      "source": [
        "x.remove(\"George\")"
      ],
      "metadata": {
        "id": "TwCV5NUePFBV"
      },
      "execution_count": null,
      "outputs": []
    },
    {
      "cell_type": "code",
      "source": [
        "x"
      ],
      "metadata": {
        "colab": {
          "base_uri": "https://localhost:8080/"
        },
        "id": "okCj42KzPGGL",
        "outputId": "2aa76257-b1d8-4091-80b2-91bdcfaaf486"
      },
      "execution_count": null,
      "outputs": [
        {
          "output_type": "execute_result",
          "data": {
            "text/plain": [
              "['Adam', 'John', 'Albert', 'Mary', 'Ezra']"
            ]
          },
          "metadata": {},
          "execution_count": 85
        }
      ]
    },
    {
      "cell_type": "code",
      "source": [
        "x.pop(3)"
      ],
      "metadata": {
        "colab": {
          "base_uri": "https://localhost:8080/",
          "height": 35
        },
        "id": "yNIGpS4DP0gC",
        "outputId": "a2e45827-bdd8-404f-c207-46a58572c708"
      },
      "execution_count": null,
      "outputs": [
        {
          "output_type": "execute_result",
          "data": {
            "text/plain": [
              "'Mary'"
            ],
            "application/vnd.google.colaboratory.intrinsic+json": {
              "type": "string"
            }
          },
          "metadata": {},
          "execution_count": 86
        }
      ]
    },
    {
      "cell_type": "code",
      "source": [
        "x"
      ],
      "metadata": {
        "colab": {
          "base_uri": "https://localhost:8080/"
        },
        "id": "CcydUjAlQRE6",
        "outputId": "182ef6aa-1f8b-4eeb-a35f-c72987c107dc"
      },
      "execution_count": null,
      "outputs": [
        {
          "output_type": "execute_result",
          "data": {
            "text/plain": [
              "['Adam', 'John', 'Albert', 'Ezra']"
            ]
          },
          "metadata": {},
          "execution_count": 87
        }
      ]
    },
    {
      "cell_type": "code",
      "source": [
        "del x[0]"
      ],
      "metadata": {
        "id": "wPKgJsv-QUkP"
      },
      "execution_count": null,
      "outputs": []
    },
    {
      "cell_type": "code",
      "source": [
        "x"
      ],
      "metadata": {
        "colab": {
          "base_uri": "https://localhost:8080/"
        },
        "id": "6ZeLKEzGQmDU",
        "outputId": "24fb6f0d-78c8-47e4-b689-999705e4fec4"
      },
      "execution_count": null,
      "outputs": [
        {
          "output_type": "execute_result",
          "data": {
            "text/plain": [
              "['John', 'Albert', 'Ezra']"
            ]
          },
          "metadata": {},
          "execution_count": 89
        }
      ]
    },
    {
      "cell_type": "code",
      "source": [
        "x=['Adam', 'George', 'John', 'Albert', 'Mary', 'Ezra']"
      ],
      "metadata": {
        "id": "-EYmTrksQnpe"
      },
      "execution_count": null,
      "outputs": []
    },
    {
      "cell_type": "code",
      "source": [
        "x.sort()"
      ],
      "metadata": {
        "id": "QLEeBdStRAay"
      },
      "execution_count": null,
      "outputs": []
    },
    {
      "cell_type": "code",
      "source": [
        "x"
      ],
      "metadata": {
        "colab": {
          "base_uri": "https://localhost:8080/"
        },
        "id": "RYt4CPnfRCSK",
        "outputId": "c82b7640-72c2-4256-dc9f-cbc494e76b01"
      },
      "execution_count": null,
      "outputs": [
        {
          "output_type": "execute_result",
          "data": {
            "text/plain": [
              "['Adam', 'Albert', 'Ezra', 'George', 'John', 'Mary']"
            ]
          },
          "metadata": {},
          "execution_count": 92
        }
      ]
    },
    {
      "cell_type": "code",
      "source": [
        "x.sort(reverse= True)"
      ],
      "metadata": {
        "id": "PEL3E8uyRDeo"
      },
      "execution_count": null,
      "outputs": []
    },
    {
      "cell_type": "code",
      "source": [
        "x"
      ],
      "metadata": {
        "colab": {
          "base_uri": "https://localhost:8080/"
        },
        "id": "BablFsjlRhzv",
        "outputId": "c31ff4b3-851e-4519-e073-a92142b2f944"
      },
      "execution_count": null,
      "outputs": [
        {
          "output_type": "execute_result",
          "data": {
            "text/plain": [
              "['Mary', 'John', 'George', 'Ezra', 'Albert', 'Adam']"
            ]
          },
          "metadata": {},
          "execution_count": 94
        }
      ]
    },
    {
      "cell_type": "code",
      "source": [
        "x=['Adam', 'George', 'John', 'Albert', 'Mary', 'Ezra']"
      ],
      "metadata": {
        "id": "Lvx8p3YMRicR"
      },
      "execution_count": null,
      "outputs": []
    },
    {
      "cell_type": "code",
      "source": [
        "y=x.copy()"
      ],
      "metadata": {
        "id": "ON0KBbEJSEas"
      },
      "execution_count": null,
      "outputs": []
    },
    {
      "cell_type": "code",
      "source": [
        "y"
      ],
      "metadata": {
        "colab": {
          "base_uri": "https://localhost:8080/"
        },
        "id": "gyIcaVpUSF8n",
        "outputId": "36c87282-82d2-4caf-aed6-ae31b0f30f9f"
      },
      "execution_count": null,
      "outputs": [
        {
          "output_type": "execute_result",
          "data": {
            "text/plain": [
              "['Adam', 'George', 'John', 'Albert', 'Mary', 'Ezra']"
            ]
          },
          "metadata": {},
          "execution_count": 99
        }
      ]
    },
    {
      "cell_type": "code",
      "source": [
        "x=['Adam', 'George', 'George', 'John', 'Albert', 'Mary', 'Ezra']"
      ],
      "metadata": {
        "id": "z_OkUeNjSGkx"
      },
      "execution_count": null,
      "outputs": []
    },
    {
      "cell_type": "code",
      "source": [
        "x=[4,5,2,7,2,7,3,7]"
      ],
      "metadata": {
        "id": "APGAD21CSePl"
      },
      "execution_count": null,
      "outputs": []
    },
    {
      "cell_type": "code",
      "source": [
        "x.count(7)"
      ],
      "metadata": {
        "colab": {
          "base_uri": "https://localhost:8080/"
        },
        "id": "zNXj_HP4SpYf",
        "outputId": "aabe3e57-e7e2-443b-9556-308171b49d4a"
      },
      "execution_count": null,
      "outputs": [
        {
          "output_type": "execute_result",
          "data": {
            "text/plain": [
              "3"
            ]
          },
          "metadata": {},
          "execution_count": 111
        }
      ]
    },
    {
      "cell_type": "code",
      "source": [
        "x=[4,7,9,2]"
      ],
      "metadata": {
        "id": "zM_yfhkzSq_l"
      },
      "execution_count": null,
      "outputs": []
    },
    {
      "cell_type": "code",
      "source": [
        "x[1]=8"
      ],
      "metadata": {
        "id": "_eU9kLuASt62"
      },
      "execution_count": null,
      "outputs": []
    },
    {
      "cell_type": "code",
      "source": [
        "x"
      ],
      "metadata": {
        "colab": {
          "base_uri": "https://localhost:8080/"
        },
        "id": "7BcU06GCTBTC",
        "outputId": "e4b4ebc5-a614-4fca-be92-f04676890140"
      },
      "execution_count": null,
      "outputs": [
        {
          "output_type": "execute_result",
          "data": {
            "text/plain": [
              "[4, 8, 9, 2]"
            ]
          },
          "metadata": {},
          "execution_count": 114
        }
      ]
    },
    {
      "cell_type": "code",
      "source": [
        "x={4,5,2,7,2,7,3,7}"
      ],
      "metadata": {
        "id": "2Aoz9tQeTCLa"
      },
      "execution_count": null,
      "outputs": []
    },
    {
      "cell_type": "code",
      "source": [
        "x"
      ],
      "metadata": {
        "colab": {
          "base_uri": "https://localhost:8080/"
        },
        "id": "ABFVvP8uTGVQ",
        "outputId": "8c91d6f0-229d-4e57-f2a3-f28f5d82a618"
      },
      "execution_count": null,
      "outputs": [
        {
          "output_type": "execute_result",
          "data": {
            "text/plain": [
              "{2, 3, 4, 5, 7}"
            ]
          },
          "metadata": {},
          "execution_count": 118
        }
      ]
    },
    {
      "cell_type": "code",
      "source": [
        "x=0"
      ],
      "metadata": {
        "id": "xkZSwEtUToQg"
      },
      "execution_count": null,
      "outputs": []
    },
    {
      "cell_type": "code",
      "source": [
        "while x < 10 :\n",
        "  print(x)\n",
        "  x=x+1\n"
      ],
      "metadata": {
        "colab": {
          "base_uri": "https://localhost:8080/"
        },
        "id": "x-f3X_FLUujE",
        "outputId": "7b0b393c-0e9e-4335-b7f3-6ef40476b8b2"
      },
      "execution_count": null,
      "outputs": [
        {
          "output_type": "stream",
          "name": "stdout",
          "text": [
            "0\n",
            "1\n",
            "2\n",
            "3\n",
            "4\n",
            "5\n",
            "6\n",
            "7\n",
            "8\n",
            "9\n"
          ]
        }
      ]
    },
    {
      "cell_type": "code",
      "source": [
        "x=0\n",
        "total_sum =0\n",
        "while x <100:\n",
        "  total_sum = total_sum +x\n",
        "  print(total_sum)\n",
        "  x=x+1\n"
      ],
      "metadata": {
        "colab": {
          "base_uri": "https://localhost:8080/"
        },
        "id": "PWOpxczNU2Pe",
        "outputId": "5224ff6d-4c6a-419c-a137-22b5657b5b53"
      },
      "execution_count": null,
      "outputs": [
        {
          "output_type": "stream",
          "name": "stdout",
          "text": [
            "0\n",
            "1\n",
            "3\n",
            "6\n",
            "10\n",
            "15\n",
            "21\n",
            "28\n",
            "36\n",
            "45\n",
            "55\n",
            "66\n",
            "78\n",
            "91\n",
            "105\n",
            "120\n",
            "136\n",
            "153\n",
            "171\n",
            "190\n",
            "210\n",
            "231\n",
            "253\n",
            "276\n",
            "300\n",
            "325\n",
            "351\n",
            "378\n",
            "406\n",
            "435\n",
            "465\n",
            "496\n",
            "528\n",
            "561\n",
            "595\n",
            "630\n",
            "666\n",
            "703\n",
            "741\n",
            "780\n",
            "820\n",
            "861\n",
            "903\n",
            "946\n",
            "990\n",
            "1035\n",
            "1081\n",
            "1128\n",
            "1176\n",
            "1225\n",
            "1275\n",
            "1326\n",
            "1378\n",
            "1431\n",
            "1485\n",
            "1540\n",
            "1596\n",
            "1653\n",
            "1711\n",
            "1770\n",
            "1830\n",
            "1891\n",
            "1953\n",
            "2016\n",
            "2080\n",
            "2145\n",
            "2211\n",
            "2278\n",
            "2346\n",
            "2415\n",
            "2485\n",
            "2556\n",
            "2628\n",
            "2701\n",
            "2775\n",
            "2850\n",
            "2926\n",
            "3003\n",
            "3081\n",
            "3160\n",
            "3240\n",
            "3321\n",
            "3403\n",
            "3486\n",
            "3570\n",
            "3655\n",
            "3741\n",
            "3828\n",
            "3916\n",
            "4005\n",
            "4095\n",
            "4186\n",
            "4278\n",
            "4371\n",
            "4465\n",
            "4560\n",
            "4656\n",
            "4753\n",
            "4851\n",
            "4950\n"
          ]
        }
      ]
    },
    {
      "cell_type": "code",
      "source": [
        "x=[\"John\", \"Adam\", \"Mary\", \"George\"]\n"
      ],
      "metadata": {
        "id": "R9gdmj3gV-2O"
      },
      "execution_count": null,
      "outputs": []
    },
    {
      "cell_type": "code",
      "source": [
        "i=0\n",
        "while i < len(x):\n",
        "  print(x[i])\n",
        "  i=i+1"
      ],
      "metadata": {
        "colab": {
          "base_uri": "https://localhost:8080/"
        },
        "id": "eDYiSUlUYnKv",
        "outputId": "7a765e5a-b627-4e79-bac7-5421af9cdd69"
      },
      "execution_count": null,
      "outputs": [
        {
          "output_type": "stream",
          "name": "stdout",
          "text": [
            "John\n",
            "Adam\n",
            "Mary\n",
            "George\n"
          ]
        }
      ]
    },
    {
      "cell_type": "code",
      "source": [
        "x=[\"John\", \"Adam\", 29, 340000,250000,9]\n",
        "i=0\n",
        "while i < len(x) :\n",
        "  print(x[i])\n",
        "  i=i+1"
      ],
      "metadata": {
        "colab": {
          "base_uri": "https://localhost:8080/"
        },
        "id": "YI-SRq-rY0H-",
        "outputId": "b84441c7-0178-4913-c22a-692e1c937065"
      },
      "execution_count": 187,
      "outputs": [
        {
          "output_type": "stream",
          "name": "stdout",
          "text": [
            "John\n",
            "Adam\n",
            "29\n",
            "340000\n",
            "250000\n",
            "9\n"
          ]
        }
      ]
    },
    {
      "cell_type": "code",
      "source": [
        "x[3]"
      ],
      "metadata": {
        "id": "7enjUvFHaIze",
        "colab": {
          "base_uri": "https://localhost:8080/"
        },
        "outputId": "3e55668b-0df5-4863-c146-cb19c20cceb2"
      },
      "execution_count": 188,
      "outputs": [
        {
          "output_type": "execute_result",
          "data": {
            "text/plain": [
              "340000"
            ]
          },
          "metadata": {},
          "execution_count": 188
        }
      ]
    },
    {
      "cell_type": "code",
      "source": [
        "x[4]"
      ],
      "metadata": {
        "colab": {
          "base_uri": "https://localhost:8080/"
        },
        "id": "4DuY30pVdQ5A",
        "outputId": "2d7bb6e1-9299-44cf-8e34-937d513c48ba"
      },
      "execution_count": 189,
      "outputs": [
        {
          "output_type": "execute_result",
          "data": {
            "text/plain": [
              "250000"
            ]
          },
          "metadata": {},
          "execution_count": 189
        }
      ]
    },
    {
      "cell_type": "code",
      "source": [
        "x[3]-x[4]"
      ],
      "metadata": {
        "colab": {
          "base_uri": "https://localhost:8080/"
        },
        "id": "Gz_nnYh4dcuA",
        "outputId": "49d63cd5-bec4-448c-8435-0c0252a9d55d"
      },
      "execution_count": 197,
      "outputs": [
        {
          "output_type": "execute_result",
          "data": {
            "text/plain": [
              "90000"
            ]
          },
          "metadata": {},
          "execution_count": 197
        }
      ]
    },
    {
      "cell_type": "code",
      "source": [
        "90000*x[5]/100"
      ],
      "metadata": {
        "colab": {
          "base_uri": "https://localhost:8080/"
        },
        "id": "Lc2FYnmwelYb",
        "outputId": "35c52c0d-9cc5-4d44-e8e0-78925b68193c"
      },
      "execution_count": 204,
      "outputs": [
        {
          "output_type": "execute_result",
          "data": {
            "text/plain": [
              "8100.0"
            ]
          },
          "metadata": {},
          "execution_count": 204
        }
      ]
    },
    {
      "cell_type": "code",
      "source": [
        ""
      ],
      "metadata": {
        "id": "tNqO6Xd2eupb"
      },
      "execution_count": 202,
      "outputs": []
    },
    {
      "cell_type": "code",
      "source": [
        ""
      ],
      "metadata": {
        "id": "DEsVFp10jjuP"
      },
      "execution_count": null,
      "outputs": []
    }
  ]
}