{
  "nbformat": 4,
  "nbformat_minor": 0,
  "metadata": {
    "colab": {
      "name": "Python Tax.ipynb",
      "provenance": []
    },
    "kernelspec": {
      "name": "python3",
      "display_name": "Python 3"
    },
    "language_info": {
      "name": "python"
    }
  },
  "cells": [
    {
      "cell_type": "code",
      "execution_count": 20,
      "metadata": {
        "colab": {
          "base_uri": "https://localhost:8080/"
        },
        "id": "H9Ygf4lINj9L",
        "outputId": "e0808545-54e6-4045-e197-3b175b227932"
      },
      "outputs": [
        {
          "name": "stdout",
          "output_type": "stream",
          "text": [
            "enter the first number3\n",
            "enter the second number19\n"
          ]
        }
      ],
      "source": [
        "x=input(\"enter the first number\")\n",
        "y=input(\"enter the second number\")"
      ]
    },
    {
      "cell_type": "code",
      "source": [
        "int(x)+int(y)"
      ],
      "metadata": {
        "colab": {
          "base_uri": "https://localhost:8080/"
        },
        "id": "368nn2_2PK8H",
        "outputId": "ec81cad4-89c2-433c-d201-8b0fc2b601ab"
      },
      "execution_count": 21,
      "outputs": [
        {
          "output_type": "execute_result",
          "data": {
            "text/plain": [
              "22"
            ]
          },
          "metadata": {},
          "execution_count": 21
        }
      ]
    },
    {
      "cell_type": "code",
      "source": [
        "int(x)-int(y)"
      ],
      "metadata": {
        "colab": {
          "base_uri": "https://localhost:8080/"
        },
        "id": "ro9R8USaPjA2",
        "outputId": "d64cc52f-72d6-4d68-a95e-02fcfe4d98b4"
      },
      "execution_count": 22,
      "outputs": [
        {
          "output_type": "execute_result",
          "data": {
            "text/plain": [
              "-16"
            ]
          },
          "metadata": {},
          "execution_count": 22
        }
      ]
    },
    {
      "cell_type": "code",
      "source": [
        "int(x)/int(y)"
      ],
      "metadata": {
        "colab": {
          "base_uri": "https://localhost:8080/"
        },
        "id": "6bsnzCARPo_2",
        "outputId": "c06f5943-09ec-4665-eeb4-59c5f5c886c4"
      },
      "execution_count": 23,
      "outputs": [
        {
          "output_type": "execute_result",
          "data": {
            "text/plain": [
              "0.15789473684210525"
            ]
          },
          "metadata": {},
          "execution_count": 23
        }
      ]
    },
    {
      "cell_type": "code",
      "source": [
        "int(x)*int(y)"
      ],
      "metadata": {
        "colab": {
          "base_uri": "https://localhost:8080/"
        },
        "id": "zIjisYbPSh-q",
        "outputId": "df1c5949-ec3d-4888-fd86-0ae3e4768517"
      },
      "execution_count": 24,
      "outputs": [
        {
          "output_type": "execute_result",
          "data": {
            "text/plain": [
              "57"
            ]
          },
          "metadata": {},
          "execution_count": 24
        }
      ]
    },
    {
      "cell_type": "code",
      "source": [
        "x=int(input(\"enter the first number\"))\n",
        "y=int(input(\"enter the second number\"))"
      ],
      "metadata": {
        "colab": {
          "base_uri": "https://localhost:8080/"
        },
        "id": "H6OoCA5lSlIZ",
        "outputId": "e501854c-360e-4eec-ed6b-63e8b5e35ea4"
      },
      "execution_count": 25,
      "outputs": [
        {
          "name": "stdout",
          "output_type": "stream",
          "text": [
            "enter the first number13\n",
            "enter the second number6\n"
          ]
        }
      ]
    },
    {
      "cell_type": "code",
      "source": [
        "x+y"
      ],
      "metadata": {
        "colab": {
          "base_uri": "https://localhost:8080/"
        },
        "id": "wQOiYdXySte5",
        "outputId": "05dee104-53ac-4227-9f51-2b3494ed9765"
      },
      "execution_count": 26,
      "outputs": [
        {
          "output_type": "execute_result",
          "data": {
            "text/plain": [
              "19"
            ]
          },
          "metadata": {},
          "execution_count": 26
        }
      ]
    },
    {
      "cell_type": "code",
      "source": [
        "x-y"
      ],
      "metadata": {
        "colab": {
          "base_uri": "https://localhost:8080/"
        },
        "id": "pBQaE6dmSwi7",
        "outputId": "c2e7a44c-3bc5-4ae0-b34b-005d38549804"
      },
      "execution_count": 27,
      "outputs": [
        {
          "output_type": "execute_result",
          "data": {
            "text/plain": [
              "7"
            ]
          },
          "metadata": {},
          "execution_count": 27
        }
      ]
    },
    {
      "cell_type": "code",
      "source": [
        "x*y"
      ],
      "metadata": {
        "colab": {
          "base_uri": "https://localhost:8080/"
        },
        "id": "5PDaI9W1SxUj",
        "outputId": "c1182e06-71e1-4941-882d-221e420c8644"
      },
      "execution_count": 28,
      "outputs": [
        {
          "output_type": "execute_result",
          "data": {
            "text/plain": [
              "78"
            ]
          },
          "metadata": {},
          "execution_count": 28
        }
      ]
    },
    {
      "cell_type": "code",
      "source": [
        "x/y"
      ],
      "metadata": {
        "colab": {
          "base_uri": "https://localhost:8080/"
        },
        "id": "c0d7aeOFSyDT",
        "outputId": "80282384-8fae-4273-8b03-0ac025c344a6"
      },
      "execution_count": 29,
      "outputs": [
        {
          "output_type": "execute_result",
          "data": {
            "text/plain": [
              "2.1666666666666665"
            ]
          },
          "metadata": {},
          "execution_count": 29
        }
      ]
    },
    {
      "cell_type": "code",
      "source": [
        "p=int(input(\"enter principle amount:\"))\n",
        "n=int(input(\"enter number of years:\"))\n",
        "r=int(input(\"enter rate of interest:\"))\n",
        "i=p*n*r\n",
        "print(\"interest amount:\",i)"
      ],
      "metadata": {
        "colab": {
          "base_uri": "https://localhost:8080/"
        },
        "id": "uO6qs4SUSy6j",
        "outputId": "d9ef8ac4-5daa-4c5f-e9a5-edfddd8e75f3"
      },
      "execution_count": 35,
      "outputs": [
        {
          "output_type": "stream",
          "name": "stdout",
          "text": [
            "enter principle amount:30000\n",
            "enter number of years:3\n",
            "enter rate of interest:5\n",
            "interest amount: 450000\n"
          ]
        }
      ]
    },
    {
      "cell_type": "code",
      "source": [
        "print(\"total deposit:\",p+i)"
      ],
      "metadata": {
        "colab": {
          "base_uri": "https://localhost:8080/"
        },
        "id": "DSUdJ7M4Tlp8",
        "outputId": "e6602c47-f4ae-4c50-d7a6-b141b5e493a3"
      },
      "execution_count": 36,
      "outputs": [
        {
          "output_type": "stream",
          "name": "stdout",
          "text": [
            "total deposit: 480000\n"
          ]
        }
      ]
    },
    {
      "cell_type": "code",
      "source": [
        "x=(int(input(\"enter your mark\")))\n",
        "y=(int(input(\"enter your mark\")))"
      ],
      "metadata": {
        "colab": {
          "base_uri": "https://localhost:8080/"
        },
        "id": "auuZlh68Wt2B",
        "outputId": "d66307b1-bf05-4b0b-94be-08ecbe049d02"
      },
      "execution_count": 48,
      "outputs": [
        {
          "name": "stdout",
          "output_type": "stream",
          "text": [
            "enter your mark33\n",
            "enter your mark85\n"
          ]
        }
      ]
    },
    {
      "cell_type": "code",
      "source": [
        "if x > 50 :\n",
        "  print(\"you are passed\")\n",
        "if x < 50 :\n",
        "  print(\"you are failed\")\n",
        "if y > 50 :\n",
        "  print(\"PASS\")\n",
        "else:\n",
        "  print(\"FAIL\")"
      ],
      "metadata": {
        "colab": {
          "base_uri": "https://localhost:8080/"
        },
        "id": "u1So_n1dZg8g",
        "outputId": "27e09a2f-235c-4703-85b3-5dc076c35d09"
      },
      "execution_count": 51,
      "outputs": [
        {
          "output_type": "stream",
          "name": "stdout",
          "text": [
            "you are failed\n",
            "PASS\n"
          ]
        }
      ]
    },
    {
      "cell_type": "code",
      "source": [
        "x=int(input(\"enter your salary\"))\n",
        "tax=x*10/100\n",
        "y=int(input(\"enter your salary\"))"
      ],
      "metadata": {
        "colab": {
          "base_uri": "https://localhost:8080/"
        },
        "id": "c0QQ8ChMZmsD",
        "outputId": "15454cb7-f6f3-4255-efa4-9ffcef8d621c"
      },
      "execution_count": 71,
      "outputs": [
        {
          "name": "stdout",
          "output_type": "stream",
          "text": [
            "enter your salary260500\n",
            "enter your salary133000\n"
          ]
        }
      ]
    },
    {
      "cell_type": "code",
      "source": [
        "if x>250000:\n",
        "  print(\"you are taxable\")\n",
        "  print(\"your tax amount is\",tax)\n",
        "if x<250000:\n",
        "  print(\"you are not taxable\")\n",
        "if y>250000:\n",
        "  print(\"you are taxable\")\n",
        "else:\n",
        "  print(\"you are not taxable\")"
      ],
      "metadata": {
        "colab": {
          "base_uri": "https://localhost:8080/"
        },
        "id": "5rD2Mg0mahS3",
        "outputId": "b9afe8cc-327d-4230-8eef-d187249f1178"
      },
      "execution_count": 72,
      "outputs": [
        {
          "output_type": "stream",
          "name": "stdout",
          "text": [
            "you are taxable\n",
            "your tax amount is 26050.0\n",
            "you are not taxable\n"
          ]
        }
      ]
    },
    {
      "cell_type": "code",
      "source": [
        "x=int(input(\"enter your salary\"))\n",
        "t=x-250000\n",
        "tax=t*10/100"
      ],
      "metadata": {
        "colab": {
          "base_uri": "https://localhost:8080/"
        },
        "id": "wM92pRoka594",
        "outputId": "ca77fd3f-2764-4518-9052-e3a3c9c38e1c"
      },
      "execution_count": 69,
      "outputs": [
        {
          "name": "stdout",
          "output_type": "stream",
          "text": [
            "enter your salary300000\n"
          ]
        }
      ]
    },
    {
      "cell_type": "code",
      "source": [
        "if x>250000:\n",
        "  print(\"you are taxable\")\n",
        "  print(\"your tax amount is\",tax)\n",
        "if x<250000:\n",
        "  print(\"you are not taxable\")"
      ],
      "metadata": {
        "colab": {
          "base_uri": "https://localhost:8080/"
        },
        "id": "tpPGlS5jfG_X",
        "outputId": "20134615-5414-42d9-a8ca-00cfa4becac3"
      },
      "execution_count": 70,
      "outputs": [
        {
          "output_type": "stream",
          "name": "stdout",
          "text": [
            "you are taxable\n",
            "your tax amount is 5000.0\n"
          ]
        }
      ]
    },
    {
      "cell_type": "code",
      "source": [
        "x=int(input(\"enter your salary\"))"
      ],
      "metadata": {
        "colab": {
          "base_uri": "https://localhost:8080/"
        },
        "id": "GFZdAg4ZfL3N",
        "outputId": "5745d648-59d2-43f2-c854-81d0df9bd2d5"
      },
      "execution_count": 88,
      "outputs": [
        {
          "name": "stdout",
          "output_type": "stream",
          "text": [
            "enter your salary550000\n"
          ]
        }
      ]
    },
    {
      "cell_type": "code",
      "source": [
        "if x<250000:\n",
        "  print (\"you are not taxable\")\n",
        "if 250000<x<500000:\n",
        "  print (\"you are taxable\",x*10/100)\n",
        "if x>500000:\n",
        "  print(\"you are taxable\",x*20/100)\n"
      ],
      "metadata": {
        "colab": {
          "base_uri": "https://localhost:8080/"
        },
        "id": "OMiab4VLhnHC",
        "outputId": "ea708100-afb4-4f19-a361-7efd19b1e054"
      },
      "execution_count": 89,
      "outputs": [
        {
          "output_type": "stream",
          "name": "stdout",
          "text": [
            "you are taxable 110000.0\n"
          ]
        }
      ]
    },
    {
      "cell_type": "code",
      "source": [
        "y=int(input(\"enter your salary\"))"
      ],
      "metadata": {
        "colab": {
          "base_uri": "https://localhost:8080/"
        },
        "id": "48GgbikLioXV",
        "outputId": "701b7e85-caa9-49c6-b3fa-08cb69788b15"
      },
      "execution_count": 90,
      "outputs": [
        {
          "name": "stdout",
          "output_type": "stream",
          "text": [
            "enter your salary333000\n"
          ]
        }
      ]
    },
    {
      "cell_type": "code",
      "source": [
        "if y<250000:\n",
        "  print (\"you are not taxable\")\n",
        "if 250000<y<500000:\n",
        "  print (\"you are taxable\",y*10/100)\n",
        "if y>500000:\n",
        "  print(\"you are taxable\",y*20/100)"
      ],
      "metadata": {
        "colab": {
          "base_uri": "https://localhost:8080/"
        },
        "id": "wBpeVvMFjsmH",
        "outputId": "3a12a133-076f-4fbe-bd8f-cf037a3f2ad8"
      },
      "execution_count": 92,
      "outputs": [
        {
          "output_type": "stream",
          "name": "stdout",
          "text": [
            "you are taxable 33300.0\n"
          ]
        }
      ]
    },
    {
      "cell_type": "code",
      "source": [
        ""
      ],
      "metadata": {
        "id": "suPrAM0ojvqm"
      },
      "execution_count": null,
      "outputs": []
    }
  ]
}