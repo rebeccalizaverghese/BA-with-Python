{
  "nbformat": 4,
  "nbformat_minor": 0,
  "metadata": {
    "colab": {
      "provenance": [],
      "authorship_tag": "ABX9TyPOXylti2zd9GiGmCruFdlQ",
      "include_colab_link": true
    },
    "kernelspec": {
      "name": "python3",
      "display_name": "Python 3"
    },
    "language_info": {
      "name": "python"
    }
  },
  "cells": [
    {
      "cell_type": "markdown",
      "metadata": {
        "id": "view-in-github",
        "colab_type": "text"
      },
      "source": [
        "<a href=\"https://colab.research.google.com/github/rebeccalizaverghese/BA-with-Python/blob/main/Revision_19_01_Python_Libraries_Strings.ipynb\" target=\"_parent\"><img src=\"https://colab.research.google.com/assets/colab-badge.svg\" alt=\"Open In Colab\"/></a>"
      ]
    },
    {
      "cell_type": "code",
      "execution_count": 1,
      "metadata": {
        "colab": {
          "base_uri": "https://localhost:8080/"
        },
        "id": "bJdcsCUkG3Fp",
        "outputId": "f6bf1251-7546-44ea-d7a5-6c678182d8e2"
      },
      "outputs": [
        {
          "output_type": "stream",
          "name": "stdout",
          "text": [
            "False\n",
            "True\n"
          ]
        }
      ],
      "source": [
        "x=2\n",
        "y=5\n",
        "print(x is y)\n",
        "print(x is not y) #Identity Operator"
      ]
    },
    {
      "cell_type": "code",
      "source": [
        "x=2\n",
        "y=5\n",
        "print(x<2 and x<10)    #Logical Operator => 'and' - should satisfy both conditions\n",
        "print(not(x<2 and x<10))"
      ],
      "metadata": {
        "colab": {
          "base_uri": "https://localhost:8080/"
        },
        "id": "RO5I5tbZIR7h",
        "outputId": "b7cf81b6-7702-4cfd-bfee-2a8b3ba3eb73"
      },
      "execution_count": 4,
      "outputs": [
        {
          "output_type": "stream",
          "name": "stdout",
          "text": [
            "False\n",
            "True\n"
          ]
        }
      ]
    },
    {
      "cell_type": "code",
      "source": [
        "x=2\n",
        "y=5\n",
        "print((x+5) - y < (x+10)-y) #Multi-operation expression"
      ],
      "metadata": {
        "colab": {
          "base_uri": "https://localhost:8080/"
        },
        "id": "vVZiSMc5Ine6",
        "outputId": "dd1a610b-842d-451b-8a23-0e946fa90b34"
      },
      "execution_count": 5,
      "outputs": [
        {
          "output_type": "stream",
          "name": "stdout",
          "text": [
            "True\n"
          ]
        }
      ]
    },
    {
      "cell_type": "code",
      "source": [
        "x=2\n",
        "y=5\n",
        "z=3\n",
        "print((x+y)<z) #Combinational Expression"
      ],
      "metadata": {
        "colab": {
          "base_uri": "https://localhost:8080/"
        },
        "id": "cxL5RuNSLSjH",
        "outputId": "12e2c9fe-309b-474a-bcfa-53bef88b7187"
      },
      "execution_count": 7,
      "outputs": [
        {
          "output_type": "stream",
          "name": "stdout",
          "text": [
            "False\n"
          ]
        }
      ]
    },
    {
      "cell_type": "code",
      "source": [
        "x=10\n",
        "y=4\n",
        "print(x+int(y)) #Hybrid Operators"
      ],
      "metadata": {
        "colab": {
          "base_uri": "https://localhost:8080/"
        },
        "id": "Z-_sEMT9MLkS",
        "outputId": "0828a163-30a7-4a20-eec4-8f888fe55946"
      },
      "execution_count": 8,
      "outputs": [
        {
          "output_type": "stream",
          "name": "stdout",
          "text": [
            "14\n"
          ]
        }
      ]
    },
    {
      "cell_type": "code",
      "source": [
        "x=10*(4+6) * 10/100\n",
        "print(x) #BODMAS"
      ],
      "metadata": {
        "colab": {
          "base_uri": "https://localhost:8080/"
        },
        "id": "KIMIW7B8MrRA",
        "outputId": "3b876fd8-d421-4cd5-d768-803d5ac24862"
      },
      "execution_count": 10,
      "outputs": [
        {
          "output_type": "stream",
          "name": "stdout",
          "text": [
            "10.0\n"
          ]
        }
      ]
    },
    {
      "cell_type": "code",
      "source": [],
      "metadata": {
        "id": "b8u7eeuIM4ac"
      },
      "execution_count": 11,
      "outputs": []
    },
    {
      "cell_type": "code",
      "source": [
        "#PYTHON LIBRARIES/MODULES - allows use of less codes"
      ],
      "metadata": {
        "id": "9Jr2VAVdNmD-"
      },
      "execution_count": 12,
      "outputs": []
    },
    {
      "cell_type": "code",
      "source": [
        "#1.MATH library\n",
        "import math\n",
        "x=math.pi\n",
        "print(x)"
      ],
      "metadata": {
        "colab": {
          "base_uri": "https://localhost:8080/"
        },
        "id": "e_WOHGH-N_-T",
        "outputId": "8906f485-b64e-4081-c0fa-312c90d54e3e"
      },
      "execution_count": 14,
      "outputs": [
        {
          "output_type": "stream",
          "name": "stdout",
          "text": [
            "3.141592653589793\n"
          ]
        }
      ]
    },
    {
      "cell_type": "code",
      "source": [
        "#when name of library is large - can be renamed -> 'math' => 'mt'\n",
        "import math as mt\n",
        "x=mt.e\n",
        "print(x)"
      ],
      "metadata": {
        "colab": {
          "base_uri": "https://localhost:8080/"
        },
        "id": "XAV4xpJuODdC",
        "outputId": "88733e43-9dc8-4647-c2f9-d94749bb5da6"
      },
      "execution_count": 16,
      "outputs": [
        {
          "output_type": "stream",
          "name": "stdout",
          "text": [
            "2.718281828459045\n"
          ]
        }
      ]
    },
    {
      "cell_type": "code",
      "source": [
        "#Area of circle\n",
        "import math as mt\n",
        "r = int(input(\"Enter the radius:\"))\n",
        "x=mt.pi * r**2\n",
        "print(x)"
      ],
      "metadata": {
        "colab": {
          "base_uri": "https://localhost:8080/"
        },
        "id": "8-6KoLzlO4r1",
        "outputId": "a7c4a75f-e5c3-4f6f-b78b-343b2fb94771"
      },
      "execution_count": 22,
      "outputs": [
        {
          "output_type": "stream",
          "name": "stdout",
          "text": [
            "Enter the radius:33\n",
            "3421.194399759285\n"
          ]
        }
      ]
    },
    {
      "cell_type": "code",
      "source": [
        "#Sin\n",
        "import math as mt\n",
        "s=mt.sin(33)\n",
        "print(s) \n"
      ],
      "metadata": {
        "colab": {
          "base_uri": "https://localhost:8080/"
        },
        "id": "PAQTeai-Pd-t",
        "outputId": "fb83aaaf-6b88-4669-dbd7-972150dc8a81"
      },
      "execution_count": 31,
      "outputs": [
        {
          "output_type": "stream",
          "name": "stdout",
          "text": [
            "0.9999118601072672\n"
          ]
        }
      ]
    },
    {
      "cell_type": "code",
      "source": [
        "#Cos\n",
        "import  math as mt\n",
        "c=mt.cos(20)\n",
        "print (c)"
      ],
      "metadata": {
        "colab": {
          "base_uri": "https://localhost:8080/"
        },
        "id": "87U3nxE8QHMw",
        "outputId": "3846d7aa-af53-4e4a-8254-ce4a93eeec7a"
      },
      "execution_count": 30,
      "outputs": [
        {
          "output_type": "stream",
          "name": "stdout",
          "text": [
            "0.40808206181339196\n"
          ]
        }
      ]
    },
    {
      "cell_type": "code",
      "source": [
        "#tan\n",
        "import math as mt\n",
        "t=mt.tan(30)\n",
        "print(t)"
      ],
      "metadata": {
        "colab": {
          "base_uri": "https://localhost:8080/"
        },
        "id": "MVZk1cGWQTJL",
        "outputId": "df20bd8b-904d-4a72-c721-173a354f7917"
      },
      "execution_count": 29,
      "outputs": [
        {
          "output_type": "stream",
          "name": "stdout",
          "text": [
            "-6.405331196646276\n"
          ]
        }
      ]
    },
    {
      "cell_type": "code",
      "source": [
        "#power\n",
        "import math as mt\n",
        "p=mt.pow(2,4)\n",
        "print(p)"
      ],
      "metadata": {
        "colab": {
          "base_uri": "https://localhost:8080/"
        },
        "id": "jcbdykPEQeWe",
        "outputId": "c4e8e7a8-5375-438e-c466-f57559112e87"
      },
      "execution_count": 28,
      "outputs": [
        {
          "output_type": "stream",
          "name": "stdout",
          "text": [
            "16.0\n"
          ]
        }
      ]
    },
    {
      "cell_type": "code",
      "source": [
        "#Squareroot\n",
        "import math as mt\n",
        "sqrt=mt.sqrt(64)\n",
        "print(sqrt)"
      ],
      "metadata": {
        "colab": {
          "base_uri": "https://localhost:8080/"
        },
        "id": "JViCxTjPQtZa",
        "outputId": "ca94a288-a2e2-47d6-ed78-dab434c9134e"
      },
      "execution_count": 32,
      "outputs": [
        {
          "output_type": "stream",
          "name": "stdout",
          "text": [
            "8.0\n"
          ]
        }
      ]
    },
    {
      "cell_type": "code",
      "source": [
        "#MAX/MIN\n",
        "import math as mt\n",
        "max=max(5,10,25)\n",
        "min=min(5,10,25)\n",
        "print(max)\n",
        "print(min)"
      ],
      "metadata": {
        "colab": {
          "base_uri": "https://localhost:8080/"
        },
        "id": "HMX90gIuRCR4",
        "outputId": "48b8f4a9-018e-443a-c433-5250f0f97a9c"
      },
      "execution_count": 33,
      "outputs": [
        {
          "output_type": "stream",
          "name": "stdout",
          "text": [
            "25\n",
            "5\n"
          ]
        }
      ]
    },
    {
      "cell_type": "code",
      "source": [
        "#2.STATISTICS\n",
        "#Mean\n",
        "import statistics as st\n",
        "st.mean([2,5,6,9])\n"
      ],
      "metadata": {
        "colab": {
          "base_uri": "https://localhost:8080/"
        },
        "id": "LWDn8jJhRVyg",
        "outputId": "38409da9-394b-42ce-b8ef-13ecf4a6fcea"
      },
      "execution_count": 43,
      "outputs": [
        {
          "output_type": "execute_result",
          "data": {
            "text/plain": [
              "5.5"
            ]
          },
          "metadata": {},
          "execution_count": 43
        }
      ]
    },
    {
      "cell_type": "code",
      "source": [
        "#Standard Deviation\n",
        "import statistics as st\n",
        "print(st.stdev([1,3,5,7,9,11]))"
      ],
      "metadata": {
        "colab": {
          "base_uri": "https://localhost:8080/"
        },
        "id": "F_LKrwFzR7JA",
        "outputId": "fe552a78-f5d5-4a73-ff2a-41a85013c565"
      },
      "execution_count": 44,
      "outputs": [
        {
          "output_type": "stream",
          "name": "stdout",
          "text": [
            "3.7416573867739413\n"
          ]
        }
      ]
    },
    {
      "cell_type": "code",
      "source": [
        "#Variance\n",
        "import statistics as st\n",
        "st.variance([2,2.5,5,3,7.5,2.8])"
      ],
      "metadata": {
        "colab": {
          "base_uri": "https://localhost:8080/"
        },
        "id": "2x_FoTc3SxiF",
        "outputId": "288422d0-60c7-43a8-c3f6-eaeadb2160f3"
      },
      "execution_count": 45,
      "outputs": [
        {
          "output_type": "execute_result",
          "data": {
            "text/plain": [
              "4.34"
            ]
          },
          "metadata": {},
          "execution_count": 45
        }
      ]
    },
    {
      "cell_type": "code",
      "source": [],
      "metadata": {
        "id": "TODpMP5DTKaw"
      },
      "execution_count": 45,
      "outputs": []
    },
    {
      "cell_type": "code",
      "source": [
        "#Python assigns a position/ roll nos. to each letter starting from the no. '0' =>\n",
        "a=\"Rebecca\"\n",
        "print(a)\n",
        "print(a[1]) #'a[0]=> 1st letter 'a[1]=>2nd letter etc\n",
        "print(a[-1]) #'a[-1]'=> last letter \n",
        "print(a[-2]) #'a[-2]' => 2nd last letter\n",
        "print(a[0:1]) # 'a[0:1]'=> print 0th letter (excludes 1st letter)\n",
        "print(a[0:2]) # 'a[0:2]' => excludes 2nd letter\n",
        "print(a[2:5]) # 'a[0:5]' => 2,3,4 letters included\n",
        "print(a[:4]) # 'a[:4]' => all letters before 4\n",
        "print(a[3:]) # 'a[3:]' => all letters from 3rd"
      ],
      "metadata": {
        "colab": {
          "base_uri": "https://localhost:8080/"
        },
        "id": "zA8lYF8wTRqQ",
        "outputId": "ff8a0876-b73a-49ee-818b-0a95345c4a9d"
      },
      "execution_count": 58,
      "outputs": [
        {
          "output_type": "stream",
          "name": "stdout",
          "text": [
            "Rebecca\n",
            "e\n",
            "a\n",
            "c\n",
            "R\n",
            "Re\n",
            "bec\n",
            "Rebe\n",
            "ecca\n"
          ]
        }
      ]
    },
    {
      "cell_type": "code",
      "source": [
        "x=\"Rebecca Liza Verghese\"\n",
        "print(a[0:])\n"
      ],
      "metadata": {
        "colab": {
          "base_uri": "https://localhost:8080/"
        },
        "id": "3C6wU8gGavIG",
        "outputId": "80e12d7d-6653-49f5-8674-c2fa29e2a3de"
      },
      "execution_count": 99,
      "outputs": [
        {
          "output_type": "stream",
          "name": "stdout",
          "text": [
            "Rebecca\n"
          ]
        }
      ]
    },
    {
      "cell_type": "code",
      "source": [
        "#STRINGS\n",
        "#Uppercase\n",
        "x=\"Rebecca\"\n",
        "print(x.upper())\n",
        "\n"
      ],
      "metadata": {
        "colab": {
          "base_uri": "https://localhost:8080/"
        },
        "id": "qWyCj7NLXqeI",
        "outputId": "f6d5e0a3-3761-4e0f-fd9f-abd057038f53"
      },
      "execution_count": 70,
      "outputs": [
        {
          "output_type": "stream",
          "name": "stdout",
          "text": [
            "REBECCA\n"
          ]
        }
      ]
    },
    {
      "cell_type": "code",
      "source": [
        "#Replace Letters\n",
        "x=\"Hello World\"\n",
        "print(x.replace(\"H\", \"J\"))"
      ],
      "metadata": {
        "colab": {
          "base_uri": "https://localhost:8080/"
        },
        "id": "ueDhSNB4X5Ap",
        "outputId": "ea46b3b9-f173-407c-a0f7-9fa247bf29fb"
      },
      "execution_count": 71,
      "outputs": [
        {
          "output_type": "stream",
          "name": "stdout",
          "text": [
            "Jello World\n"
          ]
        }
      ]
    },
    {
      "cell_type": "code",
      "source": [
        "#Lowercase\n",
        "x=\"Hello World\"\n",
        "print(x.lower())\n"
      ],
      "metadata": {
        "colab": {
          "base_uri": "https://localhost:8080/"
        },
        "id": "hB9aiV83YK3l",
        "outputId": "4182cffc-0631-4b3a-bcfb-44140b01d0bc"
      },
      "execution_count": 76,
      "outputs": [
        {
          "output_type": "stream",
          "name": "stdout",
          "text": [
            "hello world\n"
          ]
        }
      ]
    },
    {
      "cell_type": "code",
      "source": [
        "#Split\n",
        "x=\"Hello , World\"\n",
        "print(x.split(\",\"))"
      ],
      "metadata": {
        "colab": {
          "base_uri": "https://localhost:8080/"
        },
        "id": "_g4c_eLOYvFS",
        "outputId": "37bca7f9-714c-497c-e79d-06545f127650"
      },
      "execution_count": 77,
      "outputs": [
        {
          "output_type": "stream",
          "name": "stdout",
          "text": [
            "['Hello ', ' World']\n"
          ]
        }
      ]
    },
    {
      "cell_type": "code",
      "source": [
        "#To find the roll.no/position of particular letter\n",
        "x=\"Hello World\"\n",
        "print(x.index(\"o\"))"
      ],
      "metadata": {
        "colab": {
          "base_uri": "https://localhost:8080/"
        },
        "id": "hXcq34QRZdCL",
        "outputId": "a6b20fa2-a2cd-43e0-b2ae-161ffb764a68"
      },
      "execution_count": 91,
      "outputs": [
        {
          "output_type": "stream",
          "name": "stdout",
          "text": [
            "4\n"
          ]
        }
      ]
    },
    {
      "cell_type": "code",
      "source": [
        "x=\"Rebecca Liza Verghese\"\n",
        "print(x.index(\"R\"))\n",
        "print(x.index(\"L\"))\n",
        "print(x.index(\"V\"))"
      ],
      "metadata": {
        "colab": {
          "base_uri": "https://localhost:8080/"
        },
        "id": "Y97VNLYfafaZ",
        "outputId": "95e37df5-98dd-43ef-c4f8-f29a3d5f883f"
      },
      "execution_count": 101,
      "outputs": [
        {
          "output_type": "stream",
          "name": "stdout",
          "text": [
            "0\n",
            "8\n",
            "13\n"
          ]
        }
      ]
    },
    {
      "cell_type": "code",
      "source": [
        "#To find if 'x' starts with letter 's'\n",
        "x=\"Rebecca\"\n",
        "print(x.startswith(\"S\"))"
      ],
      "metadata": {
        "colab": {
          "base_uri": "https://localhost:8080/"
        },
        "id": "SvhXEtU0bQd6",
        "outputId": "b2b9599a-f33d-4c32-c68e-154f785a7c1e"
      },
      "execution_count": 100,
      "outputs": [
        {
          "output_type": "stream",
          "name": "stdout",
          "text": [
            "False\n"
          ]
        }
      ]
    },
    {
      "cell_type": "code",
      "source": [
        "x=\"Rebecca\"\n",
        "y=x.startswith(\"Reb\", 3, 10)\n",
        "print(y)"
      ],
      "metadata": {
        "colab": {
          "base_uri": "https://localhost:8080/"
        },
        "id": "MnWJ9quUbp1R",
        "outputId": "c2e4948c-9ad5-4499-c63f-691d35b586ec"
      },
      "execution_count": 102,
      "outputs": [
        {
          "output_type": "stream",
          "name": "stdout",
          "text": [
            "False\n"
          ]
        }
      ]
    },
    {
      "cell_type": "code",
      "source": [],
      "metadata": {
        "colab": {
          "base_uri": "https://localhost:8080/"
        },
        "id": "Cuh4ekuTclsi",
        "outputId": "c11fa8c4-1620-4a12-991f-f5d5aeb7c532"
      },
      "execution_count": 103,
      "outputs": [
        {
          "output_type": "stream",
          "name": "stdout",
          "text": [
            "False\n"
          ]
        }
      ]
    },
    {
      "cell_type": "code",
      "source": [
        "#Partition\n",
        "x=\"Hello World with Python\"\n",
        "y= x.partition(\"with\")\n",
        "print(y)"
      ],
      "metadata": {
        "colab": {
          "base_uri": "https://localhost:8080/"
        },
        "id": "QpU9DqL7cxTz",
        "outputId": "d99f363e-b722-4fdd-b976-917a4fffaff9"
      },
      "execution_count": 104,
      "outputs": [
        {
          "output_type": "stream",
          "name": "stdout",
          "text": [
            "('Hello World ', 'with', ' Python')\n"
          ]
        }
      ]
    },
    {
      "cell_type": "code",
      "source": [],
      "metadata": {
        "id": "Ue7nX0CTdMX5"
      },
      "execution_count": null,
      "outputs": []
    }
  ]
}