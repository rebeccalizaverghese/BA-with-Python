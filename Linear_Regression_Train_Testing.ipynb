{
  "nbformat": 4,
  "nbformat_minor": 0,
  "metadata": {
    "colab": {
      "name": "Linear Regression -Train Testing",
      "provenance": [],
      "authorship_tag": "ABX9TyMKrMLt9PE6i6G5bR6u1PZL",
      "include_colab_link": true
    },
    "kernelspec": {
      "name": "python3",
      "display_name": "Python 3"
    },
    "language_info": {
      "name": "python"
    }
  },
  "cells": [
    {
      "cell_type": "markdown",
      "metadata": {
        "id": "view-in-github",
        "colab_type": "text"
      },
      "source": [
        "<a href=\"https://colab.research.google.com/github/rebeccalizaverghese/BA-with-Python/blob/main/Linear_Regression_Train_Testing.ipynb\" target=\"_parent\"><img src=\"https://colab.research.google.com/assets/colab-badge.svg\" alt=\"Open In Colab\"/></a>"
      ]
    },
    {
      "cell_type": "code",
      "execution_count": 1,
      "metadata": {
        "id": "wbe8Q2F3L7_B"
      },
      "outputs": [],
      "source": [
        "import numpy as np\n",
        "import matplotlib.pyplot as plt\n",
        "import pandas as pd"
      ]
    },
    {
      "cell_type": "code",
      "source": [
        "dataset = pd.read_csv('/content/RELIANCE.NS.csv')"
      ],
      "metadata": {
        "id": "v_oNx0vfMTni"
      },
      "execution_count": 2,
      "outputs": []
    },
    {
      "cell_type": "code",
      "source": [
        "x = dataset.iloc[:, :-1].values\n",
        "y = dataset.iloc[:, -1].values"
      ],
      "metadata": {
        "id": "7YQoTuQyMePV"
      },
      "execution_count": 3,
      "outputs": []
    },
    {
      "cell_type": "code",
      "source": [
        "x"
      ],
      "metadata": {
        "colab": {
          "base_uri": "https://localhost:8080/"
        },
        "id": "1YWNYPfjMmfe",
        "outputId": "9dc80c9a-54f4-4b31-cef8-078ff8a780f8"
      },
      "execution_count": 4,
      "outputs": [
        {
          "output_type": "execute_result",
          "data": {
            "text/plain": [
              "array([[  1.],\n",
              "       [  2.],\n",
              "       [  3.],\n",
              "       [  4.],\n",
              "       [  5.],\n",
              "       [  6.],\n",
              "       [  7.],\n",
              "       [  8.],\n",
              "       [  9.],\n",
              "       [ 10.],\n",
              "       [ 11.],\n",
              "       [ 12.],\n",
              "       [ 13.],\n",
              "       [ 14.],\n",
              "       [ 15.],\n",
              "       [ 16.],\n",
              "       [ 17.],\n",
              "       [ 18.],\n",
              "       [ 19.],\n",
              "       [ 20.],\n",
              "       [ 21.],\n",
              "       [ 22.],\n",
              "       [ 23.],\n",
              "       [ 24.],\n",
              "       [ 25.],\n",
              "       [ 26.],\n",
              "       [ 27.],\n",
              "       [ 28.],\n",
              "       [ 29.],\n",
              "       [ 30.],\n",
              "       [ 31.],\n",
              "       [ 32.],\n",
              "       [ 33.],\n",
              "       [ 34.],\n",
              "       [ 35.],\n",
              "       [ 36.],\n",
              "       [ 37.],\n",
              "       [ 38.],\n",
              "       [ 39.],\n",
              "       [ 40.],\n",
              "       [ 41.],\n",
              "       [ 42.],\n",
              "       [ 43.],\n",
              "       [ 44.],\n",
              "       [ 45.],\n",
              "       [ 46.],\n",
              "       [ 47.],\n",
              "       [ 48.],\n",
              "       [ 49.],\n",
              "       [ 50.],\n",
              "       [ 51.],\n",
              "       [ 52.],\n",
              "       [ 53.],\n",
              "       [ 54.],\n",
              "       [ 55.],\n",
              "       [ 56.],\n",
              "       [ 57.],\n",
              "       [ 58.],\n",
              "       [ 59.],\n",
              "       [ 60.],\n",
              "       [ 61.],\n",
              "       [ 62.],\n",
              "       [ 63.],\n",
              "       [ 64.],\n",
              "       [ 65.],\n",
              "       [ 66.],\n",
              "       [ 67.],\n",
              "       [ 68.],\n",
              "       [ 69.],\n",
              "       [ 70.],\n",
              "       [ 71.],\n",
              "       [ 72.],\n",
              "       [ 73.],\n",
              "       [ 74.],\n",
              "       [ 75.],\n",
              "       [ 76.],\n",
              "       [ 77.],\n",
              "       [ 78.],\n",
              "       [ 79.],\n",
              "       [ 80.],\n",
              "       [ 81.],\n",
              "       [ 82.],\n",
              "       [ 83.],\n",
              "       [ 84.],\n",
              "       [ 85.],\n",
              "       [ 86.],\n",
              "       [ 87.],\n",
              "       [ 88.],\n",
              "       [ 89.],\n",
              "       [ 90.],\n",
              "       [ 91.],\n",
              "       [ 92.],\n",
              "       [ 93.],\n",
              "       [ 94.],\n",
              "       [ 95.],\n",
              "       [ 96.],\n",
              "       [ 97.],\n",
              "       [ 98.],\n",
              "       [ 99.],\n",
              "       [100.],\n",
              "       [101.],\n",
              "       [102.],\n",
              "       [103.],\n",
              "       [104.],\n",
              "       [105.],\n",
              "       [106.],\n",
              "       [107.],\n",
              "       [108.],\n",
              "       [109.],\n",
              "       [110.],\n",
              "       [111.],\n",
              "       [112.],\n",
              "       [113.],\n",
              "       [114.],\n",
              "       [115.],\n",
              "       [116.],\n",
              "       [117.],\n",
              "       [118.],\n",
              "       [119.],\n",
              "       [120.],\n",
              "       [121.],\n",
              "       [122.],\n",
              "       [123.],\n",
              "       [124.],\n",
              "       [125.],\n",
              "       [126.],\n",
              "       [127.],\n",
              "       [128.],\n",
              "       [129.],\n",
              "       [130.],\n",
              "       [131.],\n",
              "       [132.],\n",
              "       [133.],\n",
              "       [134.],\n",
              "       [135.],\n",
              "       [136.],\n",
              "       [137.],\n",
              "       [138.],\n",
              "       [139.],\n",
              "       [140.],\n",
              "       [141.],\n",
              "       [142.],\n",
              "       [143.],\n",
              "       [144.],\n",
              "       [145.],\n",
              "       [146.],\n",
              "       [147.],\n",
              "       [148.],\n",
              "       [149.],\n",
              "       [150.],\n",
              "       [151.],\n",
              "       [152.],\n",
              "       [153.],\n",
              "       [154.],\n",
              "       [155.],\n",
              "       [156.],\n",
              "       [157.],\n",
              "       [158.],\n",
              "       [159.],\n",
              "       [160.],\n",
              "       [161.],\n",
              "       [162.],\n",
              "       [163.],\n",
              "       [164.],\n",
              "       [165.],\n",
              "       [166.],\n",
              "       [167.],\n",
              "       [168.],\n",
              "       [169.],\n",
              "       [170.],\n",
              "       [171.],\n",
              "       [172.],\n",
              "       [173.],\n",
              "       [174.],\n",
              "       [175.],\n",
              "       [176.],\n",
              "       [177.],\n",
              "       [178.],\n",
              "       [179.],\n",
              "       [180.],\n",
              "       [181.],\n",
              "       [182.],\n",
              "       [183.],\n",
              "       [184.],\n",
              "       [185.],\n",
              "       [186.],\n",
              "       [187.],\n",
              "       [188.],\n",
              "       [189.],\n",
              "       [190.],\n",
              "       [191.],\n",
              "       [192.],\n",
              "       [193.],\n",
              "       [194.],\n",
              "       [195.],\n",
              "       [196.],\n",
              "       [197.],\n",
              "       [198.],\n",
              "       [199.],\n",
              "       [200.],\n",
              "       [201.],\n",
              "       [202.],\n",
              "       [203.],\n",
              "       [204.],\n",
              "       [205.],\n",
              "       [206.],\n",
              "       [207.],\n",
              "       [208.],\n",
              "       [209.],\n",
              "       [210.],\n",
              "       [211.],\n",
              "       [212.],\n",
              "       [213.],\n",
              "       [214.],\n",
              "       [215.],\n",
              "       [216.],\n",
              "       [217.],\n",
              "       [218.],\n",
              "       [219.],\n",
              "       [220.],\n",
              "       [221.],\n",
              "       [222.],\n",
              "       [223.],\n",
              "       [224.],\n",
              "       [225.],\n",
              "       [226.],\n",
              "       [227.],\n",
              "       [228.],\n",
              "       [229.],\n",
              "       [230.],\n",
              "       [231.],\n",
              "       [232.],\n",
              "       [233.],\n",
              "       [234.],\n",
              "       [235.],\n",
              "       [236.],\n",
              "       [237.],\n",
              "       [238.],\n",
              "       [239.],\n",
              "       [240.],\n",
              "       [241.],\n",
              "       [242.],\n",
              "       [243.],\n",
              "       [244.],\n",
              "       [245.],\n",
              "       [246.],\n",
              "       [247.],\n",
              "       [248.],\n",
              "       [249.]])"
            ]
          },
          "metadata": {},
          "execution_count": 4
        }
      ]
    },
    {
      "cell_type": "code",
      "source": [
        "y"
      ],
      "metadata": {
        "colab": {
          "base_uri": "https://localhost:8080/"
        },
        "id": "1EEtAuzuMnVU",
        "outputId": "bd97ddfb-3e47-454d-85fe-5206240943c8"
      },
      "execution_count": 5,
      "outputs": [
        {
          "output_type": "execute_result",
          "data": {
            "text/plain": [
              "array([2149.350098, 2168.850098, 2174.      , 2143.      , 2174.      ,\n",
              "       2165.050049, 2185.399902, 2208.      , 2237.      , 2250.      ,\n",
              "       2276.899902, 2273.      , 2255.      , 2310.      , 2413.      ,\n",
              "       2430.      , 2452.      , 2427.899902, 2433.      , 2375.      ,\n",
              "       2368.5     , 2381.550049, 2446.      , 2372.100098, 2405.      ,\n",
              "       2408.      , 2447.399902, 2503.550049, 2487.      , 2534.      ,\n",
              "       2570.      , 2525.      , 2501.949951, 2553.      , 2555.100098,\n",
              "       2619.949951, 2595.      , 2585.25    , 2701.399902, 2645.      ,\n",
              "       2679.      , 2700.350098, 2668.600098, 2723.800049, 2742.75    ,\n",
              "       2727.399902, 2620.      , 2680.      , 2617.100098, 2652.      ,\n",
              "       2620.      , 2596.149902, 2536.25    , 2545.      , 2506.050049,\n",
              "       2492.949951, 2519.399902, 2505.      , 2516.699951, 2540.050049,\n",
              "       2562.899902, 2600.      , 2572.050049, 2498.949951, 2460.      ,\n",
              "       2436.100098, 2333.050049, 2380.      , 2373.      , 2467.800049,\n",
              "       2439.100098, 2468.      , 2433.      , 2469.699951, 2498.399902,\n",
              "       2416.      , 2376.149902, 2424.100098, 2435.      , 2440.25    ,\n",
              "       2473.5     , 2380.      , 2384.      , 2405.699951, 2398.050049,\n",
              "       2317.850098, 2311.350098, 2324.899902, 2374.      , 2370.      ,\n",
              "       2361.550049, 2375.600098, 2391.      , 2400.      , 2373.      ,\n",
              "       2365.      , 2415.899902, 2462.      , 2451.199951, 2430.949951,\n",
              "       2452.      , 2436.      , 2471.300049, 2521.25    , 2535.      ,\n",
              "       2538.      , 2554.75    , 2530.      , 2500.050049, 2452.      ,\n",
              "       2475.      , 2349.550049, 2336.      , 2365.      , 2360.199951,\n",
              "       2408.      , 2407.      , 2392.      , 2341.      , 2342.      ,\n",
              "       2330.649902, 2371.149902, 2395.699951, 2373.25    , 2340.25    ,\n",
              "       2351.199951, 2430.      , 2420.100098, 2444.399902, 2412.      ,\n",
              "       2352.899902, 2401.100098, 2305.      , 2280.100098, 2243.      ,\n",
              "       2334.449951, 2400.      , 2353.      , 2278.699951, 2211.5     ,\n",
              "       2236.      , 2400.      , 2376.050049, 2386.899902, 2427.949951,\n",
              "       2382.      , 2432.75    , 2444.      , 2460.100098, 2523.      ,\n",
              "       2510.      , 2582.5     , 2610.      , 2638.      , 2639.899902,\n",
              "       2664.949951, 2636.      , 2655.449951, 2651.100098, 2587.100098,\n",
              "       2595.100098, 2560.      , 2600.      , 2587.      , 2574.5     ,\n",
              "       2533.      , 2558.      , 2657.100098, 2750.899902, 2758.899902,\n",
              "       2742.399902, 2710.      , 2755.850098, 2809.949951, 2856.149902,\n",
              "       2762.      , 2785.      , 2723.5     , 2612.199951, 2574.949951,\n",
              "       2495.      , 2472.649902, 2427.5     , 2426.      , 2434.449951,\n",
              "       2435.100098, 2539.649902, 2484.      , 2512.5     , 2631.5     ,\n",
              "       2607.      , 2635.      , 2624.399902, 2593.050049, 2615.      ,\n",
              "       2641.399902, 2634.300049, 2634.      , 2744.      , 2780.      ,\n",
              "       2769.899902, 2772.75    , 2710.      , 2771.899902, 2650.      ,\n",
              "       2650.050049, 2617.550049, 2623.      , 2560.      , 2605.      ,\n",
              "       2560.      , 2558.100098, 2515.050049, 2480.      , 2544.949951,\n",
              "       2482.100098, 2507.199951, 2580.      , 2574.899902, 2378.949951,\n",
              "       2423.      , 2420.100098, 2425.899902, 2418.      , 2376.5     ,\n",
              "       2404.      , 2427.300049, 2388.      , 2415.      , 2421.      ,\n",
              "       2400.300049, 2540.      , 2494.      , 2500.      , 2467.449951,\n",
              "       2421.100098, 2419.949951, 2436.      , 2474.699951, 2519.149902,\n",
              "       2572.5     , 2600.      , 2610.      , 2576.      , 2531.      ,\n",
              "       2576.899902, 2603.100098, 2590.300049, 2646.199951])"
            ]
          },
          "metadata": {},
          "execution_count": 5
        }
      ]
    },
    {
      "cell_type": "code",
      "source": [
        "from sklearn.model_selection import train_test_split\n",
        "x_train, x_test, y_train, y_test = train_test_split(x, y, test_size = 0.2, random_state = 0)\n"
      ],
      "metadata": {
        "id": "ZkqIwt_PMn0m"
      },
      "execution_count": 6,
      "outputs": []
    },
    {
      "cell_type": "code",
      "source": [
        "from sklearn.linear_model import LinearRegression\n",
        "regressor = LinearRegression()\n",
        "regressor.fit(x_train, y_train)"
      ],
      "metadata": {
        "colab": {
          "base_uri": "https://localhost:8080/"
        },
        "id": "WdBrXCOrNKUk",
        "outputId": "9e8f75ba-8381-4c77-b524-89bb816f0870"
      },
      "execution_count": 8,
      "outputs": [
        {
          "output_type": "execute_result",
          "data": {
            "text/plain": [
              "LinearRegression()"
            ]
          },
          "metadata": {},
          "execution_count": 8
        }
      ]
    },
    {
      "cell_type": "code",
      "source": [
        "y_pred = regressor.predict(x_test)"
      ],
      "metadata": {
        "id": "BP3_pZVwNYvx"
      },
      "execution_count": 9,
      "outputs": []
    },
    {
      "cell_type": "code",
      "source": [
        "plt.scatter(x_test, y_test, color = 'red')\n",
        "plt.scatter(x_train, y_train, color = 'green')\n",
        "plt.plot(x_test, y_pred, color = 'blue')\n",
        "plt.xlabel('Volume')\n",
        "plt.ylabel('Profit')\n",
        "plt.show()"
      ],
      "metadata": {
        "colab": {
          "base_uri": "https://localhost:8080/",
          "height": 279
        },
        "id": "MQNLTBHeNjrT",
        "outputId": "61bbd95f-7796-4fab-c60a-fc6ca6d016e7"
      },
      "execution_count": 10,
      "outputs": [
        {
          "output_type": "display_data",
          "data": {
            "text/plain": [
              "<Figure size 432x288 with 1 Axes>"
            ],
            "image/png": "[encoded data removed]"
          },
          "metadata": {
            "needs_background": "light"
          }
        }
      ]
    },
    {
      "cell_type": "code",
      "source": [
        ""
      ],
      "metadata": {
        "id": "YXa5yYBFOANw"
      },
      "execution_count": null,
      "outputs": []
    }
  ]
}